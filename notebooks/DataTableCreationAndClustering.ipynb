{
 "cells": [
  {
   "cell_type": "markdown",
   "id": "dd09f0ad-e551-4688-9a74-fa855d67e440",
   "metadata": {},
   "source": [
    "# Data cleanning and DataBase creation"
   ]
  },
  {
   "cell_type": "markdown",
   "id": "523088e9-47ef-4f05-bd7c-48c80e7121b4",
   "metadata": {},
   "source": [
    "### olympic athletes"
   ]
  },
  {
   "cell_type": "code",
   "execution_count": 3,
   "id": "fc5f54bd-1c6f-4af7-a7c0-f58c2107278c",
   "metadata": {},
   "outputs": [],
   "source": [
    "import pandas as pd\n",
    "df_athletes = pd.read_json(\"olympic_athletes.json\")"
   ]
  },
  {
   "cell_type": "code",
   "execution_count": 4,
   "id": "cef8a320-8e96-4acf-9846-a1883c4a5ddc",
   "metadata": {},
   "outputs": [
    {
     "data": {
      "text/html": [
       "<div>\n",
       "<style scoped>\n",
       "    .dataframe tbody tr th:only-of-type {\n",
       "        vertical-align: middle;\n",
       "    }\n",
       "\n",
       "    .dataframe tbody tr th {\n",
       "        vertical-align: top;\n",
       "    }\n",
       "\n",
       "    .dataframe thead th {\n",
       "        text-align: right;\n",
       "    }\n",
       "</style>\n",
       "<table border=\"1\" class=\"dataframe\">\n",
       "  <thead>\n",
       "    <tr style=\"text-align: right;\">\n",
       "      <th></th>\n",
       "      <th>athlete_url</th>\n",
       "      <th>athlete_full_name</th>\n",
       "      <th>games_participations</th>\n",
       "      <th>first_game</th>\n",
       "      <th>athlete_year_birth</th>\n",
       "      <th>athlete_medals</th>\n",
       "      <th>bio</th>\n",
       "    </tr>\n",
       "  </thead>\n",
       "  <tbody>\n",
       "    <tr>\n",
       "      <th>0</th>\n",
       "      <td>https://olympics.com/en/athletes/cooper-woods-...</td>\n",
       "      <td>Cooper WOODS-TOPALOVIC</td>\n",
       "      <td>1</td>\n",
       "      <td>Beijing 2022</td>\n",
       "      <td>2000.0</td>\n",
       "      <td>None</td>\n",
       "      <td>None</td>\n",
       "    </tr>\n",
       "    <tr>\n",
       "      <th>1</th>\n",
       "      <td>https://olympics.com/en/athletes/elofsson</td>\n",
       "      <td>Felix ELOFSSON</td>\n",
       "      <td>2</td>\n",
       "      <td>PyeongChang 2018</td>\n",
       "      <td>1995.0</td>\n",
       "      <td>None</td>\n",
       "      <td>None</td>\n",
       "    </tr>\n",
       "    <tr>\n",
       "      <th>2</th>\n",
       "      <td>https://olympics.com/en/athletes/dylan-walczyk</td>\n",
       "      <td>Dylan WALCZYK</td>\n",
       "      <td>1</td>\n",
       "      <td>Beijing 2022</td>\n",
       "      <td>1993.0</td>\n",
       "      <td>None</td>\n",
       "      <td>None</td>\n",
       "    </tr>\n",
       "    <tr>\n",
       "      <th>3</th>\n",
       "      <td>https://olympics.com/en/athletes/olli-penttala</td>\n",
       "      <td>Olli PENTTALA</td>\n",
       "      <td>1</td>\n",
       "      <td>Beijing 2022</td>\n",
       "      <td>1995.0</td>\n",
       "      <td>None</td>\n",
       "      <td>None</td>\n",
       "    </tr>\n",
       "    <tr>\n",
       "      <th>4</th>\n",
       "      <td>https://olympics.com/en/athletes/reikherd</td>\n",
       "      <td>Dmitriy REIKHERD</td>\n",
       "      <td>1</td>\n",
       "      <td>Beijing 2022</td>\n",
       "      <td>1989.0</td>\n",
       "      <td>None</td>\n",
       "      <td>None</td>\n",
       "    </tr>\n",
       "  </tbody>\n",
       "</table>\n",
       "</div>"
      ],
      "text/plain": [
       "                                         athlete_url       athlete_full_name  \\\n",
       "0  https://olympics.com/en/athletes/cooper-woods-...  Cooper WOODS-TOPALOVIC   \n",
       "1          https://olympics.com/en/athletes/elofsson          Felix ELOFSSON   \n",
       "2     https://olympics.com/en/athletes/dylan-walczyk           Dylan WALCZYK   \n",
       "3     https://olympics.com/en/athletes/olli-penttala           Olli PENTTALA   \n",
       "4          https://olympics.com/en/athletes/reikherd        Dmitriy REIKHERD   \n",
       "\n",
       "   games_participations        first_game  athlete_year_birth athlete_medals  \\\n",
       "0                     1      Beijing 2022              2000.0           None   \n",
       "1                     2  PyeongChang 2018              1995.0           None   \n",
       "2                     1      Beijing 2022              1993.0           None   \n",
       "3                     1      Beijing 2022              1995.0           None   \n",
       "4                     1      Beijing 2022              1989.0           None   \n",
       "\n",
       "    bio  \n",
       "0  None  \n",
       "1  None  \n",
       "2  None  \n",
       "3  None  \n",
       "4  None  "
      ]
     },
     "execution_count": 4,
     "metadata": {},
     "output_type": "execute_result"
    }
   ],
   "source": [
    "df_athletes.head()"
   ]
  },
  {
   "cell_type": "code",
   "execution_count": 5,
   "id": "0e1e7577-be1e-488e-99b0-1118768b2d99",
   "metadata": {
    "scrolled": true
   },
   "outputs": [
    {
     "data": {
      "text/plain": [
       "array([None, '\\n\\n\\n1\\n\\nS\\n\\n', '\\n\\n\\n1\\n\\nB\\n\\n',\n",
       "       '\\n\\n\\n1\\n\\nG\\n\\n\\n\\n2\\n\\nS\\n\\n', '\\n\\n\\n1\\n\\nG\\n\\n',\n",
       "       '\\n\\n\\n1\\n\\nG\\n\\n\\n\\n1\\n\\nB\\n\\n', '\\n\\n\\n2\\n\\nG\\n\\n\\n\\n1\\n\\nS\\n\\n',\n",
       "       '\\n\\n\\n1\\n\\nS\\n\\n\\n\\n1\\n\\nB\\n\\n', '\\n\\n\\n2\\n\\nS\\n\\n\\n\\n1\\n\\nB\\n\\n',\n",
       "       '\\n\\n\\n2\\n\\nB\\n\\n', '\\n\\n\\n1\\n\\nG\\n\\n\\n\\n1\\n\\nS\\n\\n\\n\\n1\\n\\nB\\n\\n',\n",
       "       '\\n\\n\\n1\\n\\nG\\n\\n\\n\\n1\\n\\nS\\n\\n', '\\n\\n\\n1\\n\\nS\\n\\n\\n\\n3\\n\\nB\\n\\n',\n",
       "       '\\n\\n\\n2\\n\\nG\\n\\n\\n\\n4\\n\\nS\\n\\n\\n\\n5\\n\\nB\\n\\n',\n",
       "       '\\n\\n\\n3\\n\\nG\\n\\n\\n\\n2\\n\\nS\\n\\n', '\\n\\n\\n2\\n\\nG\\n\\n\\n\\n2\\n\\nB\\n\\n',\n",
       "       '\\n\\n\\n2\\n\\nG\\n\\n\\n\\n2\\n\\nS\\n\\n\\n\\n1\\n\\nB\\n\\n',\n",
       "       '\\n\\n\\n4\\n\\nG\\n\\n\\n\\n1\\n\\nS\\n\\n\\n\\n1\\n\\nB\\n\\n', '\\n\\n\\n2\\n\\nG\\n\\n',\n",
       "       '\\n\\n\\n1\\n\\nS\\n\\n\\n\\n2\\n\\nB\\n\\n', '\\n\\n\\n2\\n\\nG\\n\\n\\n\\n1\\n\\nB\\n\\n',\n",
       "       '\\n\\n\\n3\\n\\nB\\n\\n', '\\n\\n\\n2\\n\\nS\\n\\n', '\\n\\n\\n3\\n\\nG\\n\\n',\n",
       "       '\\n\\n\\n1\\n\\nG\\n\\n\\n\\n2\\n\\nS\\n\\n\\n\\n1\\n\\nB\\n\\n',\n",
       "       '\\n\\n\\n1\\n\\nG\\n\\n\\n\\n2\\n\\nB\\n\\n', '\\n\\n\\n4\\n\\nG\\n\\n',\n",
       "       '\\n\\n\\n3\\n\\nG\\n\\n\\n\\n1\\n\\nB\\n\\n', '\\n\\n\\n6\\n\\nG\\n\\n\\n\\n1\\n\\nB\\n\\n',\n",
       "       '\\n\\n\\n3\\n\\nG\\n\\n\\n\\n2\\n\\nS\\n\\n\\n\\n1\\n\\nB\\n\\n',\n",
       "       '\\n\\n\\n2\\n\\nG\\n\\n\\n\\n3\\n\\nS\\n\\n',\n",
       "       '\\n\\n\\n5\\n\\nG\\n\\n\\n\\n2\\n\\nS\\n\\n\\n\\n1\\n\\nB\\n\\n',\n",
       "       '\\n\\n\\n3\\n\\nG\\n\\n\\n\\n2\\n\\nB\\n\\n',\n",
       "       '\\n\\n\\n2\\n\\nG\\n\\n\\n\\n3\\n\\nS\\n\\n\\n\\n3\\n\\nB\\n\\n',\n",
       "       '\\n\\n\\n1\\n\\nG\\n\\n\\n\\n2\\n\\nS\\n\\n\\n\\n2\\n\\nB\\n\\n',\n",
       "       '\\n\\n\\n1\\n\\nG\\n\\n\\n\\n3\\n\\nB\\n\\n',\n",
       "       '\\n\\n\\n3\\n\\nG\\n\\n\\n\\n1\\n\\nS\\n\\n\\n\\n1\\n\\nB\\n\\n',\n",
       "       '\\n\\n\\n5\\n\\nG\\n\\n\\n\\n1\\n\\nS\\n\\n\\n\\n1\\n\\nB\\n\\n', '\\n\\n\\n4\\n\\nB\\n\\n',\n",
       "       '\\n\\n\\n1\\n\\nG\\n\\n\\n\\n3\\n\\nS\\n\\n\\n\\n1\\n\\nB\\n\\n',\n",
       "       '\\n\\n\\n3\\n\\nS\\n\\n\\n\\n1\\n\\nB\\n\\n', '\\n\\n\\n2\\n\\nS\\n\\n\\n\\n3\\n\\nB\\n\\n',\n",
       "       '\\n\\n\\n3\\n\\nG\\n\\n\\n\\n6\\n\\nS\\n\\n',\n",
       "       '\\n\\n\\n2\\n\\nG\\n\\n\\n\\n1\\n\\nS\\n\\n\\n\\n1\\n\\nB\\n\\n',\n",
       "       '\\n\\n\\n2\\n\\nG\\n\\n\\n\\n4\\n\\nS\\n\\n\\n\\n1\\n\\nB\\n\\n',\n",
       "       '\\n\\n\\n6\\n\\nG\\n\\n\\n\\n5\\n\\nS\\n\\n\\n\\n2\\n\\nB\\n\\n',\n",
       "       '\\n\\n\\n5\\n\\nG\\n\\n\\n\\n2\\n\\nS\\n\\n\\n\\n2\\n\\nB\\n\\n',\n",
       "       '\\n\\n\\n4\\n\\nG\\n\\n\\n\\n2\\n\\nS\\n\\n\\n\\n3\\n\\nB\\n\\n',\n",
       "       '\\n\\n\\n3\\n\\nG\\n\\n\\n\\n2\\n\\nS\\n\\n\\n\\n2\\n\\nB\\n\\n',\n",
       "       '\\n\\n\\n2\\n\\nG\\n\\n\\n\\n3\\n\\nS\\n\\n\\n\\n1\\n\\nB\\n\\n',\n",
       "       '\\n\\n\\n4\\n\\nG\\n\\n\\n\\n2\\n\\nS\\n\\n', '\\n\\n\\n2\\n\\nS\\n\\n\\n\\n2\\n\\nB\\n\\n',\n",
       "       '\\n\\n\\n3\\n\\nS\\n\\n\\n\\n2\\n\\nB\\n\\n', '\\n\\n\\n2\\n\\nG\\n\\n\\n\\n2\\n\\nS\\n\\n',\n",
       "       '\\n\\n\\n5\\n\\nG\\n\\n\\n\\n1\\n\\nB\\n\\n',\n",
       "       '\\n\\n\\n6\\n\\nG\\n\\n\\n\\n1\\n\\nS\\n\\n\\n\\n1\\n\\nB\\n\\n',\n",
       "       '\\n\\n\\n1\\n\\nG\\n\\n\\n\\n1\\n\\nS\\n\\n\\n\\n2\\n\\nB\\n\\n', '\\n\\n\\n5\\n\\nG\\n\\n',\n",
       "       '\\n\\n\\n2\\n\\nS\\n\\n\\n\\n4\\n\\nB\\n\\n', '\\n\\n\\n7\\n\\nG\\n\\n\\n\\n2\\n\\nS\\n\\n',\n",
       "       '\\n\\n\\n4\\n\\nG\\n\\n\\n\\n1\\n\\nS\\n\\n\\n\\n2\\n\\nB\\n\\n',\n",
       "       '\\n\\n\\n3\\n\\nG\\n\\n\\n\\n3\\n\\nB\\n\\n',\n",
       "       '\\n\\n\\n1\\n\\nG\\n\\n\\n\\n4\\n\\nS\\n\\n\\n\\n2\\n\\nB\\n\\n',\n",
       "       '\\n\\n\\n3\\n\\nG\\n\\n\\n\\n1\\n\\nS\\n\\n', '\\n\\n\\n7\\n\\nG\\n\\n\\n\\n5\\n\\nS\\n\\n',\n",
       "       '\\n\\n\\n3\\n\\nG\\n\\n\\n\\n1\\n\\nS\\n\\n\\n\\n2\\n\\nB\\n\\n',\n",
       "       '\\n\\n\\n1\\n\\nG\\n\\n\\n\\n3\\n\\nS\\n\\n',\n",
       "       '\\n\\n\\n1\\n\\nG\\n\\n\\n\\n1\\n\\nS\\n\\n\\n\\n4\\n\\nB\\n\\n',\n",
       "       '\\n\\n\\n7\\n\\nG\\n\\n\\n\\n3\\n\\nS\\n\\n\\n\\n1\\n\\nB\\n\\n',\n",
       "       '\\n\\n\\n5\\n\\nG\\n\\n\\n\\n1\\n\\nS\\n\\n',\n",
       "       '\\n\\n\\n1\\n\\nG\\n\\n\\n\\n1\\n\\nS\\n\\n\\n\\n3\\n\\nB\\n\\n',\n",
       "       '\\n\\n\\n3\\n\\nG\\n\\n\\n\\n4\\n\\nS\\n\\n\\n\\n1\\n\\nB\\n\\n',\n",
       "       '\\n\\n\\n7\\n\\nG\\n\\n\\n\\n3\\n\\nS\\n\\n',\n",
       "       '\\n\\n\\n4\\n\\nG\\n\\n\\n\\n1\\n\\nS\\n\\n\\n\\n3\\n\\nB\\n\\n',\n",
       "       '\\n\\n\\n5\\n\\nG\\n\\n\\n\\n2\\n\\nS\\n\\n\\n\\n4\\n\\nB\\n\\n',\n",
       "       '\\n\\n\\n3\\n\\nG\\n\\n\\n\\n3\\n\\nS\\n\\n\\n\\n1\\n\\nB\\n\\n', '\\n\\n\\n7\\n\\nG\\n\\n',\n",
       "       '\\n\\n\\n1\\n\\nG\\n\\n\\n\\n5\\n\\nS\\n\\n',\n",
       "       '\\n\\n\\n1\\n\\nG\\n\\n\\n\\n2\\n\\nS\\n\\n\\n\\n4\\n\\nB\\n\\n',\n",
       "       '\\n\\n\\n4\\n\\nS\\n\\n\\n\\n2\\n\\nB\\n\\n', '\\n\\n\\n2\\n\\nG\\n\\n\\n\\n3\\n\\nB\\n\\n',\n",
       "       '\\n\\n\\n5\\n\\nG\\n\\n\\n\\n2\\n\\nS\\n\\n',\n",
       "       '\\n\\n\\n4\\n\\nG\\n\\n\\n\\n3\\n\\nS\\n\\n\\n\\n1\\n\\nB\\n\\n',\n",
       "       '\\n\\n\\n3\\n\\nG\\n\\n\\n\\n3\\n\\nS\\n\\n', '\\n\\n\\n3\\n\\nS\\n\\n',\n",
       "       '\\n\\n\\n8\\n\\nG\\n\\n\\n\\n4\\n\\nS\\n\\n\\n\\n3\\n\\nB\\n\\n',\n",
       "       '\\n\\n\\n2\\n\\nG\\n\\n\\n\\n1\\n\\nS\\n\\n\\n\\n2\\n\\nB\\n\\n',\n",
       "       '\\n\\n\\n4\\n\\nG\\n\\n\\n\\n2\\n\\nB\\n\\n',\n",
       "       '\\n\\n\\n2\\n\\nG\\n\\n\\n\\n1\\n\\nS\\n\\n\\n\\n3\\n\\nB\\n\\n', '\\n\\n\\n4\\n\\nS\\n\\n',\n",
       "       '\\n\\n\\n8\\n\\nG\\n\\n', '\\n\\n\\n3\\n\\nG\\n\\n\\n\\n4\\n\\nS\\n\\n',\n",
       "       '\\n\\n\\n2\\n\\nG\\n\\n\\n\\n2\\n\\nS\\n\\n\\n\\n3\\n\\nB\\n\\n',\n",
       "       '\\n\\n\\n23\\n\\nG\\n\\n\\n\\n3\\n\\nS\\n\\n\\n\\n2\\n\\nB\\n\\n',\n",
       "       '\\n\\n\\n6\\n\\nG\\n\\n\\n\\n3\\n\\nS\\n\\n\\n\\n3\\n\\nB\\n\\n',\n",
       "       '\\n\\n\\n5\\n\\nG\\n\\n\\n\\n1\\n\\nS\\n\\n\\n\\n2\\n\\nB\\n\\n',\n",
       "       '\\n\\n\\n4\\n\\nG\\n\\n\\n\\n1\\n\\nS\\n\\n',\n",
       "       '\\n\\n\\n8\\n\\nG\\n\\n\\n\\n4\\n\\nS\\n\\n\\n\\n1\\n\\nB\\n\\n',\n",
       "       '\\n\\n\\n1\\n\\nG\\n\\n\\n\\n3\\n\\nS\\n\\n\\n\\n2\\n\\nB\\n\\n',\n",
       "       '\\n\\n\\n6\\n\\nG\\n\\n\\n\\n2\\n\\nB\\n\\n',\n",
       "       '\\n\\n\\n3\\n\\nG\\n\\n\\n\\n5\\n\\nS\\n\\n\\n\\n1\\n\\nB\\n\\n',\n",
       "       '\\n\\n\\n4\\n\\nG\\n\\n\\n\\n3\\n\\nS\\n\\n\\n\\n3\\n\\nB\\n\\n',\n",
       "       '\\n\\n\\n4\\n\\nG\\n\\n\\n\\n1\\n\\nB\\n\\n', '\\n\\n\\n1\\n\\nG\\n\\n\\n\\n4\\n\\nS\\n\\n',\n",
       "       '\\n\\n\\n6\\n\\nG\\n\\n\\n\\n1\\n\\nS\\n\\n\\n\\n2\\n\\nB\\n\\n',\n",
       "       '\\n\\n\\n6\\n\\nG\\n\\n\\n\\n1\\n\\nS\\n\\n',\n",
       "       '\\n\\n\\n1\\n\\nG\\n\\n\\n\\n2\\n\\nS\\n\\n\\n\\n3\\n\\nB\\n\\n',\n",
       "       '\\n\\n\\n3\\n\\nG\\n\\n\\n\\n1\\n\\nS\\n\\n\\n\\n3\\n\\nB\\n\\n',\n",
       "       '\\n\\n\\n2\\n\\nG\\n\\n\\n\\n2\\n\\nS\\n\\n\\n\\n4\\n\\nB\\n\\n',\n",
       "       '\\n\\n\\n3\\n\\nG\\n\\n\\n\\n5\\n\\nS\\n\\n',\n",
       "       '\\n\\n\\n3\\n\\nG\\n\\n\\n\\n4\\n\\nS\\n\\n\\n\\n5\\n\\nB\\n\\n', '\\n\\n\\n5\\n\\nB\\n\\n',\n",
       "       '\\n\\n\\n4\\n\\nG\\n\\n\\n\\n2\\n\\nS\\n\\n\\n\\n2\\n\\nB\\n\\n',\n",
       "       '\\n\\n\\n4\\n\\nG\\n\\n\\n\\n4\\n\\nS\\n\\n\\n\\n4\\n\\nB\\n\\n',\n",
       "       '\\n\\n\\n2\\n\\nG\\n\\n\\n\\n4\\n\\nS\\n\\n\\n\\n3\\n\\nB\\n\\n',\n",
       "       '\\n\\n\\n1\\n\\nG\\n\\n\\n\\n4\\n\\nS\\n\\n\\n\\n1\\n\\nB\\n\\n',\n",
       "       '\\n\\n\\n1\\n\\nG\\n\\n\\n\\n4\\n\\nB\\n\\n', '\\n\\n\\n4\\n\\nG\\n\\n\\n\\n5\\n\\nS\\n\\n',\n",
       "       '\\n\\n\\n5\\n\\nG\\n\\n\\n\\n3\\n\\nS\\n\\n\\n\\n1\\n\\nB\\n\\n',\n",
       "       '\\n\\n\\n4\\n\\nS\\n\\n\\n\\n6\\n\\nB\\n\\n',\n",
       "       '\\n\\n\\n8\\n\\nG\\n\\n\\n\\n3\\n\\nS\\n\\n\\n\\n1\\n\\nB\\n\\n',\n",
       "       '\\n\\n\\n4\\n\\nG\\n\\n\\n\\n2\\n\\nS\\n\\n\\n\\n6\\n\\nB\\n\\n',\n",
       "       '\\n\\n\\n2\\n\\nG\\n\\n\\n\\n3\\n\\nS\\n\\n\\n\\n5\\n\\nB\\n\\n',\n",
       "       '\\n\\n\\n3\\n\\nS\\n\\n\\n\\n6\\n\\nB\\n\\n',\n",
       "       '\\n\\n\\n2\\n\\nG\\n\\n\\n\\n4\\n\\nS\\n\\n\\n\\n2\\n\\nB\\n\\n', '\\n\\n\\n6\\n\\nG\\n\\n',\n",
       "       '\\n\\n\\n3\\n\\nG\\n\\n\\n\\n4\\n\\nB\\n\\n', '\\n\\n\\n8\\n\\nG\\n\\n\\n\\n4\\n\\nS\\n\\n',\n",
       "       '\\n\\n\\n6\\n\\nB\\n\\n', '\\n\\n\\n6\\n\\nG\\n\\n\\n\\n4\\n\\nB\\n\\n',\n",
       "       '\\n\\n\\n9\\n\\nG\\n\\n\\n\\n1\\n\\nS\\n\\n', '\\n\\n\\n4\\n\\nS\\n\\n\\n\\n1\\n\\nB\\n\\n',\n",
       "       '\\n\\n\\n1\\n\\nG\\n\\n\\n\\n5\\n\\nS\\n\\n\\n\\n1\\n\\nB\\n\\n',\n",
       "       '\\n\\n\\n2\\n\\nG\\n\\n\\n\\n4\\n\\nS\\n\\n',\n",
       "       '\\n\\n\\n8\\n\\nG\\n\\n\\n\\n2\\n\\nS\\n\\n\\n\\n1\\n\\nB\\n\\n',\n",
       "       '\\n\\n\\n4\\n\\nG\\n\\n\\n\\n5\\n\\nS\\n\\n\\n\\n1\\n\\nB\\n\\n',\n",
       "       '\\n\\n\\n2\\n\\nG\\n\\n\\n\\n2\\n\\nS\\n\\n\\n\\n2\\n\\nB\\n\\n',\n",
       "       '\\n\\n\\n3\\n\\nG\\n\\n\\n\\n6\\n\\nS\\n\\n\\n\\n1\\n\\nB\\n\\n',\n",
       "       '\\n\\n\\n7\\n\\nG\\n\\n\\n\\n5\\n\\nS\\n\\n\\n\\n3\\n\\nB\\n\\n',\n",
       "       '\\n\\n\\n2\\n\\nG\\n\\n\\n\\n3\\n\\nS\\n\\n\\n\\n2\\n\\nB\\n\\n',\n",
       "       '\\n\\n\\n4\\n\\nG\\n\\n\\n\\n4\\n\\nS\\n\\n', '\\n\\n\\n4\\n\\nG\\n\\n\\n\\n3\\n\\nS\\n\\n',\n",
       "       '\\n\\n\\n5\\n\\nG\\n\\n\\n\\n1\\n\\nS\\n\\n\\n\\n3\\n\\nB\\n\\n',\n",
       "       '\\n\\n\\n3\\n\\nG\\n\\n\\n\\n3\\n\\nS\\n\\n\\n\\n3\\n\\nB\\n\\n',\n",
       "       '\\n\\n\\n4\\n\\nG\\n\\n\\n\\n3\\n\\nS\\n\\n\\n\\n2\\n\\nB\\n\\n',\n",
       "       '\\n\\n\\n6\\n\\nG\\n\\n\\n\\n2\\n\\nS\\n\\n\\n\\n2\\n\\nB\\n\\n',\n",
       "       '\\n\\n\\n2\\n\\nG\\n\\n\\n\\n6\\n\\nS\\n\\n\\n\\n1\\n\\nB\\n\\n',\n",
       "       '\\n\\n\\n9\\n\\nG\\n\\n\\n\\n1\\n\\nS\\n\\n\\n\\n1\\n\\nB\\n\\n',\n",
       "       '\\n\\n\\n7\\n\\nG\\n\\n\\n\\n4\\n\\nS\\n\\n', '\\n\\n\\n5\\n\\nS\\n\\n',\n",
       "       '\\n\\n\\n7\\n\\nG\\n\\n\\n\\n1\\n\\nS\\n\\n', '\\n\\n\\n1\\n\\nG\\n\\n\\n\\n5\\n\\nB\\n\\n',\n",
       "       '\\n\\n\\n9\\n\\nG\\n\\n\\n\\n5\\n\\nS\\n\\n\\n\\n4\\n\\nB\\n\\n',\n",
       "       '\\n\\n\\n5\\n\\nG\\n\\n\\n\\n2\\n\\nS\\n\\n\\n\\n3\\n\\nB\\n\\n',\n",
       "       '\\n\\n\\n7\\n\\nG\\n\\n\\n\\n4\\n\\nS\\n\\n\\n\\n2\\n\\nB\\n\\n',\n",
       "       '\\n\\n\\n1\\n\\nG\\n\\n\\n\\n5\\n\\nS\\n\\n\\n\\n3\\n\\nB\\n\\n',\n",
       "       '\\n\\n\\n5\\n\\nG\\n\\n\\n\\n4\\n\\nS\\n\\n\\n\\n4\\n\\nB\\n\\n',\n",
       "       '\\n\\n\\n1\\n\\nG\\n\\n\\n\\n3\\n\\nS\\n\\n\\n\\n3\\n\\nB\\n\\n',\n",
       "       '\\n\\n\\n7\\n\\nG\\n\\n\\n\\n1\\n\\nS\\n\\n\\n\\n2\\n\\nB\\n\\n',\n",
       "       '\\n\\n\\n5\\n\\nG\\n\\n\\n\\n3\\n\\nS\\n\\n\\n\\n2\\n\\nB\\n\\n',\n",
       "       '\\n\\n\\n2\\n\\nG\\n\\n\\n\\n5\\n\\nS\\n\\n',\n",
       "       '\\n\\n\\n2\\n\\nG\\n\\n\\n\\n1\\n\\nS\\n\\n\\n\\n6\\n\\nB\\n\\n',\n",
       "       '\\n\\n\\n3\\n\\nG\\n\\n\\n\\n4\\n\\nS\\n\\n\\n\\n2\\n\\nB\\n\\n',\n",
       "       '\\n\\n\\n4\\n\\nG\\n\\n\\n\\n2\\n\\nS\\n\\n\\n\\n1\\n\\nB\\n\\n',\n",
       "       '\\n\\n\\n9\\n\\nG\\n\\n\\n\\n3\\n\\nS\\n\\n', '\\n\\n\\n5\\n\\nG\\n\\n\\n\\n3\\n\\nS\\n\\n',\n",
       "       '\\n\\n\\n1\\n\\nS\\n\\n\\n\\n4\\n\\nB\\n\\n',\n",
       "       '\\n\\n\\n5\\n\\nG\\n\\n\\n\\n4\\n\\nS\\n\\n\\n\\n2\\n\\nB\\n\\n',\n",
       "       '\\n\\n\\n3\\n\\nS\\n\\n\\n\\n3\\n\\nB\\n\\n', '\\n\\n\\n6\\n\\nG\\n\\n\\n\\n4\\n\\nS\\n\\n',\n",
       "       '\\n\\n\\n5\\n\\nS\\n\\n\\n\\n2\\n\\nB\\n\\n'], dtype=object)"
      ]
     },
     "execution_count": 5,
     "metadata": {},
     "output_type": "execute_result"
    }
   ],
   "source": [
    "df_athletes[\"athlete_medals\"].unique()"
   ]
  },
  {
   "cell_type": "code",
   "execution_count": 6,
   "id": "137453e2-5b04-456f-ad56-81887e92295a",
   "metadata": {},
   "outputs": [
    {
     "data": {
      "text/plain": [
       "Index(['athlete_url', 'athlete_full_name', 'games_participations',\n",
       "       'first_game', 'athlete_year_birth', 'athlete_medals', 'bio'],\n",
       "      dtype='object')"
      ]
     },
     "execution_count": 6,
     "metadata": {},
     "output_type": "execute_result"
    }
   ],
   "source": [
    "df_athletes.columns"
   ]
  },
  {
   "cell_type": "code",
   "execution_count": 7,
   "id": "73d547de-65fe-41c5-ae30-0b9f9a8035b2",
   "metadata": {},
   "outputs": [],
   "source": [
    "df_athletes.drop(columns = ['athlete_url','athlete_medals','bio'] , inplace = True )"
   ]
  },
  {
   "cell_type": "code",
   "execution_count": 8,
   "id": "4b86f90c-4521-4201-90d9-afc9ff5f58fe",
   "metadata": {},
   "outputs": [
    {
     "data": {
      "text/html": [
       "<div>\n",
       "<style scoped>\n",
       "    .dataframe tbody tr th:only-of-type {\n",
       "        vertical-align: middle;\n",
       "    }\n",
       "\n",
       "    .dataframe tbody tr th {\n",
       "        vertical-align: top;\n",
       "    }\n",
       "\n",
       "    .dataframe thead th {\n",
       "        text-align: right;\n",
       "    }\n",
       "</style>\n",
       "<table border=\"1\" class=\"dataframe\">\n",
       "  <thead>\n",
       "    <tr style=\"text-align: right;\">\n",
       "      <th></th>\n",
       "      <th>athlete_full_name</th>\n",
       "      <th>games_participations</th>\n",
       "      <th>first_game</th>\n",
       "      <th>athlete_year_birth</th>\n",
       "    </tr>\n",
       "  </thead>\n",
       "  <tbody>\n",
       "    <tr>\n",
       "      <th>0</th>\n",
       "      <td>Cooper WOODS-TOPALOVIC</td>\n",
       "      <td>1</td>\n",
       "      <td>Beijing 2022</td>\n",
       "      <td>2000.0</td>\n",
       "    </tr>\n",
       "    <tr>\n",
       "      <th>1</th>\n",
       "      <td>Felix ELOFSSON</td>\n",
       "      <td>2</td>\n",
       "      <td>PyeongChang 2018</td>\n",
       "      <td>1995.0</td>\n",
       "    </tr>\n",
       "    <tr>\n",
       "      <th>2</th>\n",
       "      <td>Dylan WALCZYK</td>\n",
       "      <td>1</td>\n",
       "      <td>Beijing 2022</td>\n",
       "      <td>1993.0</td>\n",
       "    </tr>\n",
       "    <tr>\n",
       "      <th>3</th>\n",
       "      <td>Olli PENTTALA</td>\n",
       "      <td>1</td>\n",
       "      <td>Beijing 2022</td>\n",
       "      <td>1995.0</td>\n",
       "    </tr>\n",
       "    <tr>\n",
       "      <th>4</th>\n",
       "      <td>Dmitriy REIKHERD</td>\n",
       "      <td>1</td>\n",
       "      <td>Beijing 2022</td>\n",
       "      <td>1989.0</td>\n",
       "    </tr>\n",
       "  </tbody>\n",
       "</table>\n",
       "</div>"
      ],
      "text/plain": [
       "        athlete_full_name  games_participations        first_game  \\\n",
       "0  Cooper WOODS-TOPALOVIC                     1      Beijing 2022   \n",
       "1          Felix ELOFSSON                     2  PyeongChang 2018   \n",
       "2           Dylan WALCZYK                     1      Beijing 2022   \n",
       "3           Olli PENTTALA                     1      Beijing 2022   \n",
       "4        Dmitriy REIKHERD                     1      Beijing 2022   \n",
       "\n",
       "   athlete_year_birth  \n",
       "0              2000.0  \n",
       "1              1995.0  \n",
       "2              1993.0  \n",
       "3              1995.0  \n",
       "4              1989.0  "
      ]
     },
     "execution_count": 8,
     "metadata": {},
     "output_type": "execute_result"
    }
   ],
   "source": [
    "df_athletes.head()"
   ]
  },
  {
   "cell_type": "code",
   "execution_count": 13,
   "id": "767a6870-4f48-4e94-b0f3-8520c1648f36",
   "metadata": {},
   "outputs": [
    {
     "data": {
      "text/plain": [
       "array(['Cooper WOODS-TOPALOVIC', 'Felix ELOFSSON', 'Dylan WALCZYK', ...,\n",
       "       'Walter CECCONI', 'Susan KELLEY', 'Andrew STROUKOFF'], dtype=object)"
      ]
     },
     "execution_count": 13,
     "metadata": {},
     "output_type": "execute_result"
    }
   ],
   "source": [
    "df_athletes[\"athlete_full_name\"].unique()"
   ]
  },
  {
   "cell_type": "code",
   "execution_count": 9,
   "id": "9460edf2-f9c1-481f-89f0-bad0e81c7ac9",
   "metadata": {},
   "outputs": [
    {
     "name": "stdout",
     "output_type": "stream",
     "text": [
      "<class 'pandas.core.frame.DataFrame'>\n",
      "RangeIndex: 75904 entries, 0 to 75903\n",
      "Data columns (total 4 columns):\n",
      " #   Column                Non-Null Count  Dtype  \n",
      "---  ------                --------------  -----  \n",
      " 0   athlete_full_name     75904 non-null  object \n",
      " 1   games_participations  75904 non-null  int64  \n",
      " 2   first_game            75882 non-null  object \n",
      " 3   athlete_year_birth    73448 non-null  float64\n",
      "dtypes: float64(1), int64(1), object(2)\n",
      "memory usage: 2.3+ MB\n"
     ]
    }
   ],
   "source": [
    "df_athletes.info()"
   ]
  },
  {
   "cell_type": "code",
   "execution_count": 98,
   "id": "5300006a-59dc-43f5-9be2-70ae245790f6",
   "metadata": {},
   "outputs": [],
   "source": [
    "#df_athlets['athlete_full_name'] = df_athlets['athlete_full_name'].astype('str')\n",
    "#df_athlets['games_participations'] = df_athlets['games_participations'].astype('str')\n",
    "#df_athlets['first_game'] = df_athlets['first_game'].astype('str')\n",
    "#df_athlets['athlete_year_birth'] = df_athlets['athlete_year_birth'].astype('int')"
   ]
  },
  {
   "cell_type": "code",
   "execution_count": 73,
   "id": "155b6a6d-ae21-4d7d-b2fd-1313a913a0ee",
   "metadata": {},
   "outputs": [
    {
     "data": {
      "text/html": [
       "<div>\n",
       "<style scoped>\n",
       "    .dataframe tbody tr th:only-of-type {\n",
       "        vertical-align: middle;\n",
       "    }\n",
       "\n",
       "    .dataframe tbody tr th {\n",
       "        vertical-align: top;\n",
       "    }\n",
       "\n",
       "    .dataframe thead th {\n",
       "        text-align: right;\n",
       "    }\n",
       "</style>\n",
       "<table border=\"1\" class=\"dataframe\">\n",
       "  <thead>\n",
       "    <tr style=\"text-align: right;\">\n",
       "      <th></th>\n",
       "      <th>athlete_full_name</th>\n",
       "      <th>games_participations</th>\n",
       "      <th>first_game</th>\n",
       "      <th>athlete_year_birth</th>\n",
       "    </tr>\n",
       "  </thead>\n",
       "  <tbody>\n",
       "    <tr>\n",
       "      <th>0</th>\n",
       "      <td>Cooper WOODS-TOPALOVIC</td>\n",
       "      <td>1</td>\n",
       "      <td>Beijing 2022</td>\n",
       "      <td>2000.0</td>\n",
       "    </tr>\n",
       "    <tr>\n",
       "      <th>1</th>\n",
       "      <td>Felix ELOFSSON</td>\n",
       "      <td>2</td>\n",
       "      <td>PyeongChang 2018</td>\n",
       "      <td>1995.0</td>\n",
       "    </tr>\n",
       "    <tr>\n",
       "      <th>2</th>\n",
       "      <td>Dylan WALCZYK</td>\n",
       "      <td>1</td>\n",
       "      <td>Beijing 2022</td>\n",
       "      <td>1993.0</td>\n",
       "    </tr>\n",
       "    <tr>\n",
       "      <th>3</th>\n",
       "      <td>Olli PENTTALA</td>\n",
       "      <td>1</td>\n",
       "      <td>Beijing 2022</td>\n",
       "      <td>1995.0</td>\n",
       "    </tr>\n",
       "    <tr>\n",
       "      <th>4</th>\n",
       "      <td>Dmitriy REIKHERD</td>\n",
       "      <td>1</td>\n",
       "      <td>Beijing 2022</td>\n",
       "      <td>1989.0</td>\n",
       "    </tr>\n",
       "  </tbody>\n",
       "</table>\n",
       "</div>"
      ],
      "text/plain": [
       "        athlete_full_name  games_participations        first_game  \\\n",
       "0  Cooper WOODS-TOPALOVIC                     1      Beijing 2022   \n",
       "1          Felix ELOFSSON                     2  PyeongChang 2018   \n",
       "2           Dylan WALCZYK                     1      Beijing 2022   \n",
       "3           Olli PENTTALA                     1      Beijing 2022   \n",
       "4        Dmitriy REIKHERD                     1      Beijing 2022   \n",
       "\n",
       "   athlete_year_birth  \n",
       "0              2000.0  \n",
       "1              1995.0  \n",
       "2              1993.0  \n",
       "3              1995.0  \n",
       "4              1989.0  "
      ]
     },
     "execution_count": 73,
     "metadata": {},
     "output_type": "execute_result"
    }
   ],
   "source": [
    "df_athletes.head()"
   ]
  },
  {
   "cell_type": "code",
   "execution_count": 103,
   "id": "caff5375-a40f-4743-a7df-469ba2d8942a",
   "metadata": {},
   "outputs": [
    {
     "name": "stdout",
     "output_type": "stream",
     "text": [
      "<class 'pandas.core.frame.DataFrame'>\n",
      "RangeIndex: 75904 entries, 0 to 75903\n",
      "Data columns (total 4 columns):\n",
      " #   Column                Non-Null Count  Dtype  \n",
      "---  ------                --------------  -----  \n",
      " 0   athlete_full_name     75904 non-null  object \n",
      " 1   games_participations  75904 non-null  int64  \n",
      " 2   first_game            75882 non-null  object \n",
      " 3   athlete_year_birth    73448 non-null  float64\n",
      "dtypes: float64(1), int64(1), object(2)\n",
      "memory usage: 2.3+ MB\n"
     ]
    }
   ],
   "source": [
    "df_athlets.info()"
   ]
  },
  {
   "cell_type": "markdown",
   "id": "a7f6d250-02f2-45d8-bc48-b8009664335d",
   "metadata": {},
   "source": [
    "### Creation de la table athletes_jo"
   ]
  },
  {
   "cell_type": "code",
   "execution_count": 14,
   "id": "198c1d9d-5a10-4ca8-99a5-c3941f4d36bf",
   "metadata": {},
   "outputs": [
    {
     "name": "stdout",
     "output_type": "stream",
     "text": [
      "Table athletes_jo créée avec succès.\n"
     ]
    }
   ],
   "source": [
    "import psycopg2\n",
    "\n",
    "# Informations de connexion\n",
    "conn = psycopg2.connect(\n",
    "    host=\"postgresql-perez.alwaysdata.net\",\n",
    "    database=\"perez_vercel_db\",\n",
    "    user=\"perez\",\n",
    "    password=\"jo2024!\",\n",
    "    port=5432\n",
    ")\n",
    "\n",
    "# Création d'un curseur\n",
    "cur = conn.cursor()\n",
    "\n",
    "# Requête SQL pour créer la table\n",
    "create_table_query = \"\"\"\n",
    "CREATE TABLE athletes_jo (\n",
    "    id SERIAL PRIMARY KEY,\n",
    "    athlete_full_name VARCHAR(255),\n",
    "    games_participations INT,\n",
    "    first_game VARCHAR(255),\n",
    "    athlete_year_birth FLOAT\n",
    ")\n",
    "\"\"\"\n",
    "\n",
    "# Exécution de la requête SQL\n",
    "cur.execute(create_table_query)\n",
    "\n",
    "# Validation des changements\n",
    "conn.commit()\n",
    "\n",
    "# Fermeture du curseur et de la connexion\n",
    "cur.close()\n",
    "conn.close()\n",
    "\n",
    "print(\"Table athletes_jo créée avec succès.\")"
   ]
  },
  {
   "cell_type": "code",
   "execution_count": 15,
   "id": "3922066e-3b5f-4906-8a6a-0c57af16b648",
   "metadata": {},
   "outputs": [
    {
     "name": "stdout",
     "output_type": "stream",
     "text": [
      "Insertion des données réussie.\n"
     ]
    }
   ],
   "source": [
    "import pandas as pd\n",
    "from sqlalchemy import create_engine\n",
    "import psycopg2\n",
    "\n",
    "# Informations de connexion\n",
    "user = \"perez\"\n",
    "password = \"jo2024!\"\n",
    "host = \"postgresql-perez.alwaysdata.net\"\n",
    "port = \"5432\"\n",
    "database = \"perez_vercel_db\"\n",
    "\n",
    "# Création de l'URL de connexion\n",
    "connection_url = f\"postgresql+psycopg2://{user}:{password}@{host}:{port}/{database}\"\n",
    "\n",
    "# Création de l'engine SQLAlchemy\n",
    "engine = create_engine(connection_url)\n",
    "\n",
    "# Insertion du DataFrame dans la table `athletes_jo`\n",
    "df_athletes.to_sql('athletes_jo', engine, if_exists='append', index=False)\n",
    "\n",
    "print(\"Insertion des données réussie.\")"
   ]
  },
  {
   "cell_type": "code",
   "execution_count": 21,
   "id": "5569ad75-5642-4db9-8b67-ca7702df28ee",
   "metadata": {},
   "outputs": [
    {
     "name": "stdout",
     "output_type": "stream",
     "text": [
      "          id       athlete_full_name  games_participations        first_game  \\\n",
      "0          1  Cooper WOODS-TOPALOVIC                     1      Beijing 2022   \n",
      "1          2          Felix ELOFSSON                     2  PyeongChang 2018   \n",
      "2          3           Dylan WALCZYK                     1      Beijing 2022   \n",
      "3          4           Olli PENTTALA                     1      Beijing 2022   \n",
      "4          5        Dmitriy REIKHERD                     1      Beijing 2022   \n",
      "...      ...                     ...                   ...               ...   \n",
      "75899  75900          Douglas WEIGLE                     1    Innsbruck 1976   \n",
      "75900  75901        Stefania BERTELE                     1    Innsbruck 1976   \n",
      "75901  75902          Walter CECCONI                     1    Innsbruck 1976   \n",
      "75902  75903            Susan KELLEY                     1    Innsbruck 1976   \n",
      "75903  75904        Andrew STROUKOFF                     1    Innsbruck 1976   \n",
      "\n",
      "       athlete_year_birth  \n",
      "0                  2000.0  \n",
      "1                  1995.0  \n",
      "2                  1993.0  \n",
      "3                  1995.0  \n",
      "4                  1989.0  \n",
      "...                   ...  \n",
      "75899              1955.0  \n",
      "75900              1957.0  \n",
      "75901              1957.0  \n",
      "75902              1954.0  \n",
      "75903              1960.0  \n",
      "\n",
      "[75904 rows x 5 columns]\n"
     ]
    }
   ],
   "source": [
    "import pandas as pd\n",
    "import psycopg2\n",
    "\n",
    "# Informations de connexion\n",
    "user = \"perez\"\n",
    "password = \"jo2024!\"\n",
    "host = \"postgresql-perez.alwaysdata.net\"\n",
    "port = \"5432\"\n",
    "database = \"perez_vercel_db\"\n",
    "\n",
    "# Connexion à la base de données PostgreSQL\n",
    "conn = psycopg2.connect(\n",
    "    host=host,\n",
    "    port=port,\n",
    "    database=database,\n",
    "    user=user,\n",
    "    password=password\n",
    ")\n",
    "\n",
    "# Création d'un curseur\n",
    "cur = conn.cursor()\n",
    "\n",
    "# Exécution de la requête SQL\n",
    "query = \"SELECT * FROM athletes_jo\"\n",
    "cur.execute(query)\n",
    "\n",
    "# Récupération des résultats dans un DataFrame\n",
    "columns = [desc[0] for desc in cur.description]\n",
    "df_athletes_jo = pd.DataFrame(cur.fetchall(), columns=columns)\n",
    "\n",
    "# Affichage du DataFrame\n",
    "print(df_athletes_jo)\n",
    "\n",
    "# Fermeture du curseur et de la connexion\n",
    "cur.close()\n",
    "conn.close()\n"
   ]
  },
  {
   "cell_type": "code",
   "execution_count": 78,
   "id": "461a08d5-a1fa-4793-a1df-d83d02d08dbc",
   "metadata": {},
   "outputs": [
    {
     "data": {
      "text/html": [
       "<div>\n",
       "<style scoped>\n",
       "    .dataframe tbody tr th:only-of-type {\n",
       "        vertical-align: middle;\n",
       "    }\n",
       "\n",
       "    .dataframe tbody tr th {\n",
       "        vertical-align: top;\n",
       "    }\n",
       "\n",
       "    .dataframe thead th {\n",
       "        text-align: right;\n",
       "    }\n",
       "</style>\n",
       "<table border=\"1\" class=\"dataframe\">\n",
       "  <thead>\n",
       "    <tr style=\"text-align: right;\">\n",
       "      <th></th>\n",
       "      <th>id</th>\n",
       "      <th>athlete_full_name</th>\n",
       "      <th>games_participations</th>\n",
       "      <th>first_game</th>\n",
       "      <th>athlete_year_birth</th>\n",
       "    </tr>\n",
       "  </thead>\n",
       "  <tbody>\n",
       "    <tr>\n",
       "      <th>0</th>\n",
       "      <td>1</td>\n",
       "      <td>Cooper WOODS-TOPALOVIC</td>\n",
       "      <td>1</td>\n",
       "      <td>Beijing 2022</td>\n",
       "      <td>2000.0</td>\n",
       "    </tr>\n",
       "    <tr>\n",
       "      <th>1</th>\n",
       "      <td>2</td>\n",
       "      <td>Felix ELOFSSON</td>\n",
       "      <td>2</td>\n",
       "      <td>PyeongChang 2018</td>\n",
       "      <td>1995.0</td>\n",
       "    </tr>\n",
       "    <tr>\n",
       "      <th>2</th>\n",
       "      <td>3</td>\n",
       "      <td>Dylan WALCZYK</td>\n",
       "      <td>1</td>\n",
       "      <td>Beijing 2022</td>\n",
       "      <td>1993.0</td>\n",
       "    </tr>\n",
       "    <tr>\n",
       "      <th>3</th>\n",
       "      <td>4</td>\n",
       "      <td>Olli PENTTALA</td>\n",
       "      <td>1</td>\n",
       "      <td>Beijing 2022</td>\n",
       "      <td>1995.0</td>\n",
       "    </tr>\n",
       "    <tr>\n",
       "      <th>4</th>\n",
       "      <td>5</td>\n",
       "      <td>Dmitriy REIKHERD</td>\n",
       "      <td>1</td>\n",
       "      <td>Beijing 2022</td>\n",
       "      <td>1989.0</td>\n",
       "    </tr>\n",
       "  </tbody>\n",
       "</table>\n",
       "</div>"
      ],
      "text/plain": [
       "   id       athlete_full_name  games_participations        first_game  \\\n",
       "0   1  Cooper WOODS-TOPALOVIC                     1      Beijing 2022   \n",
       "1   2          Felix ELOFSSON                     2  PyeongChang 2018   \n",
       "2   3           Dylan WALCZYK                     1      Beijing 2022   \n",
       "3   4           Olli PENTTALA                     1      Beijing 2022   \n",
       "4   5        Dmitriy REIKHERD                     1      Beijing 2022   \n",
       "\n",
       "   athlete_year_birth  \n",
       "0              2000.0  \n",
       "1              1995.0  \n",
       "2              1993.0  \n",
       "3              1995.0  \n",
       "4              1989.0  "
      ]
     },
     "execution_count": 78,
     "metadata": {},
     "output_type": "execute_result"
    }
   ],
   "source": [
    "df_athletes_jo.head()"
   ]
  },
  {
   "cell_type": "markdown",
   "id": "d28193a7-98cc-4720-8875-5eeb8f7e8b32",
   "metadata": {},
   "source": [
    "### olympics results\n"
   ]
  },
  {
   "cell_type": "code",
   "execution_count": 50,
   "id": "3bea5a2d-938d-491b-b569-6b6f22459689",
   "metadata": {
    "scrolled": true
   },
   "outputs": [],
   "source": [
    "df_results = pd.read_html(\"olympic_results.html\")"
   ]
  },
  {
   "cell_type": "code",
   "execution_count": 51,
   "id": "eaa34fa0-3fe7-4002-82cd-ce25de15e6a6",
   "metadata": {},
   "outputs": [],
   "source": [
    "df_results = df_results[0]"
   ]
  },
  {
   "cell_type": "code",
   "execution_count": 52,
   "id": "a28477d4-e5d9-42f7-8c98-2b5bb5b5ff28",
   "metadata": {},
   "outputs": [
    {
     "data": {
      "text/plain": [
       "Index(['Unnamed: 0', 'discipline_title', 'event_title', 'slug_game',\n",
       "       'participant_type', 'medal_type', 'athletes', 'rank_equal',\n",
       "       'rank_position', 'country_name', 'country_code',\n",
       "       'country_3_letter_code', 'athlete_url', 'athlete_full_name',\n",
       "       'value_unit', 'value_type'],\n",
       "      dtype='object')"
      ]
     },
     "execution_count": 52,
     "metadata": {},
     "output_type": "execute_result"
    }
   ],
   "source": [
    "df_results.columns"
   ]
  },
  {
   "cell_type": "code",
   "execution_count": 53,
   "id": "d3d48e03-7363-4b8e-ac82-9e03bbbba919",
   "metadata": {},
   "outputs": [
    {
     "data": {
      "text/html": [
       "<div>\n",
       "<style scoped>\n",
       "    .dataframe tbody tr th:only-of-type {\n",
       "        vertical-align: middle;\n",
       "    }\n",
       "\n",
       "    .dataframe tbody tr th {\n",
       "        vertical-align: top;\n",
       "    }\n",
       "\n",
       "    .dataframe thead th {\n",
       "        text-align: right;\n",
       "    }\n",
       "</style>\n",
       "<table border=\"1\" class=\"dataframe\">\n",
       "  <thead>\n",
       "    <tr style=\"text-align: right;\">\n",
       "      <th></th>\n",
       "      <th>Unnamed: 0</th>\n",
       "      <th>discipline_title</th>\n",
       "      <th>event_title</th>\n",
       "      <th>slug_game</th>\n",
       "      <th>participant_type</th>\n",
       "      <th>medal_type</th>\n",
       "      <th>athletes</th>\n",
       "      <th>rank_equal</th>\n",
       "      <th>rank_position</th>\n",
       "      <th>country_name</th>\n",
       "      <th>country_code</th>\n",
       "      <th>country_3_letter_code</th>\n",
       "      <th>athlete_url</th>\n",
       "      <th>athlete_full_name</th>\n",
       "      <th>value_unit</th>\n",
       "      <th>value_type</th>\n",
       "    </tr>\n",
       "  </thead>\n",
       "  <tbody>\n",
       "    <tr>\n",
       "      <th>0</th>\n",
       "      <td>0</td>\n",
       "      <td>Curling</td>\n",
       "      <td>Mixed Doubles</td>\n",
       "      <td>beijing-2022</td>\n",
       "      <td>GameTeam</td>\n",
       "      <td>GOLD</td>\n",
       "      <td>[('Stefania CONSTANTINI', 'https://olympics.co...</td>\n",
       "      <td>False</td>\n",
       "      <td>1</td>\n",
       "      <td>Italy</td>\n",
       "      <td>IT</td>\n",
       "      <td>ITA</td>\n",
       "      <td>NaN</td>\n",
       "      <td>NaN</td>\n",
       "      <td>NaN</td>\n",
       "      <td>NaN</td>\n",
       "    </tr>\n",
       "    <tr>\n",
       "      <th>1</th>\n",
       "      <td>1</td>\n",
       "      <td>Curling</td>\n",
       "      <td>Mixed Doubles</td>\n",
       "      <td>beijing-2022</td>\n",
       "      <td>GameTeam</td>\n",
       "      <td>SILVER</td>\n",
       "      <td>[('Kristin SKASLIEN', 'https://olympics.com/en...</td>\n",
       "      <td>False</td>\n",
       "      <td>2</td>\n",
       "      <td>Norway</td>\n",
       "      <td>NO</td>\n",
       "      <td>NOR</td>\n",
       "      <td>NaN</td>\n",
       "      <td>NaN</td>\n",
       "      <td>NaN</td>\n",
       "      <td>NaN</td>\n",
       "    </tr>\n",
       "    <tr>\n",
       "      <th>2</th>\n",
       "      <td>2</td>\n",
       "      <td>Curling</td>\n",
       "      <td>Mixed Doubles</td>\n",
       "      <td>beijing-2022</td>\n",
       "      <td>GameTeam</td>\n",
       "      <td>BRONZE</td>\n",
       "      <td>[('Almida DE VAL', 'https://olympics.com/en/at...</td>\n",
       "      <td>False</td>\n",
       "      <td>3</td>\n",
       "      <td>Sweden</td>\n",
       "      <td>SE</td>\n",
       "      <td>SWE</td>\n",
       "      <td>NaN</td>\n",
       "      <td>NaN</td>\n",
       "      <td>NaN</td>\n",
       "      <td>NaN</td>\n",
       "    </tr>\n",
       "    <tr>\n",
       "      <th>3</th>\n",
       "      <td>3</td>\n",
       "      <td>Curling</td>\n",
       "      <td>Mixed Doubles</td>\n",
       "      <td>beijing-2022</td>\n",
       "      <td>GameTeam</td>\n",
       "      <td>NaN</td>\n",
       "      <td>[('Jennifer DODDS', 'https://olympics.com/en/a...</td>\n",
       "      <td>False</td>\n",
       "      <td>4</td>\n",
       "      <td>Great Britain</td>\n",
       "      <td>GB</td>\n",
       "      <td>GBR</td>\n",
       "      <td>NaN</td>\n",
       "      <td>NaN</td>\n",
       "      <td>NaN</td>\n",
       "      <td>NaN</td>\n",
       "    </tr>\n",
       "    <tr>\n",
       "      <th>4</th>\n",
       "      <td>4</td>\n",
       "      <td>Curling</td>\n",
       "      <td>Mixed Doubles</td>\n",
       "      <td>beijing-2022</td>\n",
       "      <td>GameTeam</td>\n",
       "      <td>NaN</td>\n",
       "      <td>[('Rachel HOMAN', 'https://olympics.com/en/ath...</td>\n",
       "      <td>False</td>\n",
       "      <td>5</td>\n",
       "      <td>Canada</td>\n",
       "      <td>CA</td>\n",
       "      <td>CAN</td>\n",
       "      <td>NaN</td>\n",
       "      <td>NaN</td>\n",
       "      <td>NaN</td>\n",
       "      <td>NaN</td>\n",
       "    </tr>\n",
       "  </tbody>\n",
       "</table>\n",
       "</div>"
      ],
      "text/plain": [
       "   Unnamed: 0 discipline_title    event_title     slug_game participant_type  \\\n",
       "0           0          Curling  Mixed Doubles  beijing-2022         GameTeam   \n",
       "1           1          Curling  Mixed Doubles  beijing-2022         GameTeam   \n",
       "2           2          Curling  Mixed Doubles  beijing-2022         GameTeam   \n",
       "3           3          Curling  Mixed Doubles  beijing-2022         GameTeam   \n",
       "4           4          Curling  Mixed Doubles  beijing-2022         GameTeam   \n",
       "\n",
       "  medal_type                                           athletes rank_equal  \\\n",
       "0       GOLD  [('Stefania CONSTANTINI', 'https://olympics.co...      False   \n",
       "1     SILVER  [('Kristin SKASLIEN', 'https://olympics.com/en...      False   \n",
       "2     BRONZE  [('Almida DE VAL', 'https://olympics.com/en/at...      False   \n",
       "3        NaN  [('Jennifer DODDS', 'https://olympics.com/en/a...      False   \n",
       "4        NaN  [('Rachel HOMAN', 'https://olympics.com/en/ath...      False   \n",
       "\n",
       "  rank_position   country_name country_code country_3_letter_code athlete_url  \\\n",
       "0             1          Italy           IT                   ITA         NaN   \n",
       "1             2         Norway           NO                   NOR         NaN   \n",
       "2             3         Sweden           SE                   SWE         NaN   \n",
       "3             4  Great Britain           GB                   GBR         NaN   \n",
       "4             5         Canada           CA                   CAN         NaN   \n",
       "\n",
       "  athlete_full_name value_unit value_type  \n",
       "0               NaN        NaN        NaN  \n",
       "1               NaN        NaN        NaN  \n",
       "2               NaN        NaN        NaN  \n",
       "3               NaN        NaN        NaN  \n",
       "4               NaN        NaN        NaN  "
      ]
     },
     "execution_count": 53,
     "metadata": {},
     "output_type": "execute_result"
    }
   ],
   "source": [
    "df_results.head()"
   ]
  },
  {
   "cell_type": "code",
   "execution_count": 54,
   "id": "f8da1289-e282-4d80-af1d-c8666f41bdb2",
   "metadata": {},
   "outputs": [
    {
     "data": {
      "text/plain": [
       "array([nan, 'POINTS', 'SC_REST$IRM', 'IRM', 'CODE', 'TIME', 'NO_TIME',\n",
       "       'IRM_POINTS', 'STROKES', 'WEIGHT', 'DISTANCE', 'RANK', 'SCORE'],\n",
       "      dtype=object)"
      ]
     },
     "execution_count": 54,
     "metadata": {},
     "output_type": "execute_result"
    }
   ],
   "source": [
    "df_results[\"value_type\"].unique()"
   ]
  },
  {
   "cell_type": "code",
   "execution_count": 55,
   "id": "41896c37-0bda-4c00-9a96-1ac2743e6508",
   "metadata": {},
   "outputs": [
    {
     "data": {
      "text/plain": [
       "array([nan, '76.74', '78.87', ..., '7.355', '2.333', '142 pts'],\n",
       "      dtype=object)"
      ]
     },
     "execution_count": 55,
     "metadata": {},
     "output_type": "execute_result"
    }
   ],
   "source": [
    "df_results[\"value_unit\"].unique()"
   ]
  },
  {
   "cell_type": "code",
   "execution_count": 56,
   "id": "9b1aeb0c-1b18-4ccd-8ae1-e2438fb83651",
   "metadata": {},
   "outputs": [
    {
     "data": {
      "text/plain": [
       "array([\"[('Stefania CONSTANTINI', 'https://olympics.com/en/athletes/stefania-constantini'), ('Amos MOSANER', 'https://olympics.com/en/athletes/amos-mosaner')]\",\n",
       "       \"[('Kristin SKASLIEN', 'https://olympics.com/en/athletes/kristin-skaslien'), ('Magnus NEDREGOTTEN', 'https://olympics.com/en/athletes/magnus-nedregotten')]\",\n",
       "       \"[('Almida DE VAL', 'https://olympics.com/en/athletes/almida-de-val'), ('Oskar ERIKSSON', 'https://olympics.com/en/athletes/oskar-eriksson')]\",\n",
       "       ...,\n",
       "       \"[('Judi GENOVESI', 'https://olympics.com/en/athletes/judi-genovesi'), ('Douglas WEIGLE', 'https://olympics.com/en/athletes/douglas-weigle')]\",\n",
       "       \"[('Stefania BERTELE', 'https://olympics.com/en/athletes/stefania-bertele'), ('Walter CECCONI', 'https://olympics.com/en/athletes/walter-cecconi')]\",\n",
       "       \"[('Susan KELLEY', 'https://olympics.com/en/athletes/susan-kelley'), ('Andrew STROUKOFF', 'https://olympics.com/en/athletes/andrew-stroukoff')]\"],\n",
       "      dtype=object)"
      ]
     },
     "execution_count": 56,
     "metadata": {},
     "output_type": "execute_result"
    }
   ],
   "source": [
    "df_results[\"athletes\"].unique()"
   ]
  },
  {
   "cell_type": "code",
   "execution_count": 57,
   "id": "92fb15b2-a6dd-4b91-a08f-4d144ad0220d",
   "metadata": {},
   "outputs": [
    {
     "data": {
      "text/plain": [
       "array(['Italy', 'Norway', 'Sweden', 'Great Britain', 'Canada',\n",
       "       'Czech Republic', 'Switzerland', 'United States of America',\n",
       "       \"People's Republic of China\", 'Australia', 'Japan',\n",
       "       'Republic of Korea', 'Denmark', 'ROC', 'Finland', 'Kazakhstan',\n",
       "       'France', 'New Zealand', 'Ireland', 'Austria', 'Spain', 'Germany',\n",
       "       'Estonia', 'Chile', 'Brazil', 'Belarus', 'Ukraine', 'Netherlands',\n",
       "       'Hungary', 'Croatia', 'Poland', 'Belgium', 'Latvia',\n",
       "       'Hong Kong, China', 'Israel', 'Turkey', 'Malta', 'Andorra',\n",
       "       'Slovenia', 'Bulgaria', 'Slovakia', 'Romania', 'Georgia',\n",
       "       'Armenia', 'Lithuania', 'Azerbaijan', 'Mexico',\n",
       "       'Bosnia and Herzegovina', 'Republic of Moldova', 'Argentina',\n",
       "       'Chinese Taipei', 'Puerto Rico', 'Kyrgyzstan', 'Colombia', 'India',\n",
       "       'Portugal', 'San Marino', 'Philippines', 'Lebanon', 'Uzbekistan',\n",
       "       'Albania', 'Montenegro', 'Greece', 'Kosovo', 'Luxembourg',\n",
       "       'Madagascar', 'Cyprus', 'Malaysia', 'Haiti', 'Thailand',\n",
       "       'Pakistan', 'Democratic Republic of Timor-Leste', 'Iceland',\n",
       "       'Monaco', 'Serbia', 'Liechtenstein', 'Bolivia', 'Morocco', 'Ghana',\n",
       "       'Jamaica', 'Eritrea', 'Saudi Arabia', 'Peru', 'Ecuador',\n",
       "       'Islamic Republic of Iran', 'Virgin Islands, US', 'American Samoa',\n",
       "       'Mongolia', 'North Macedonia', 'Nigeria', 'Trinidad and Tobago',\n",
       "       'Egypt', 'Indonesia', 'Cuba', 'Oman', 'Venezuela', 'Bangladesh',\n",
       "       'Afghanistan', 'Singapore', 'Bhutan', 'Algeria', 'Sri Lanka',\n",
       "       'Nepal', 'Refugee Olympic Team', 'Qatar', 'Kuwait', 'Bahrain',\n",
       "       'Senegal', 'Guatemala', 'Iraq', 'Jordan', 'Yemen', 'Tunisia',\n",
       "       'Aruba', 'Myanmar', 'Vietnam', 'Nicaragua', 'United Arab Emirates',\n",
       "       'Dominican Republic', 'South Africa', 'Sao Tome and Principe',\n",
       "       'Samoa', 'Cook Islands', 'Mozambique', 'Belize', 'Ethiopia',\n",
       "       'Costa Rica', 'Paraguay', 'Namibia', 'Rwanda', 'Burkina Faso',\n",
       "       'Panama', 'Zambia', \"CÃ´te d'Ivoire\", 'Honduras', 'Mauritius',\n",
       "       'Eswatini', 'Uganda', 'Cameroon',\n",
       "       'Democratic Republic of the Congo', 'Tajikistan', 'Kenya',\n",
       "       'Guyana', 'Burundi', 'Botswana', 'Cape Verde', 'Somalia',\n",
       "       'El Salvador', 'Antigua and Barbuda', 'Papua New Guinea', 'Angola',\n",
       "       'Fiji', 'Bermuda', 'Syrian Arab Republic', 'Vanuatu', 'Togo',\n",
       "       'Mali', 'Gabon', 'Niger', 'Tonga', 'Suriname', 'Maldives',\n",
       "       'Guinea-Bissau', 'Guam', 'Guinea', 'Zimbabwe', 'Chad', 'Kiribati',\n",
       "       'Comoros', 'Uruguay', 'Sierra Leone', 'Palestine', 'Sudan',\n",
       "       'Djibouti', 'Gambia', 'Malawi', 'Libya', 'Benin', 'Seychelles',\n",
       "       \"Lao People's Democratic Republic\", 'Turkmenistan',\n",
       "       'Solomon Islands', 'Nauru', 'Virgin Islands, British', 'Lesotho',\n",
       "       'United Republic of Tanzania', 'Liberia', 'Bahamas', 'Dominica',\n",
       "       'Grenada', 'Saint Lucia', 'Olympic Athletes from Russia',\n",
       "       \"Democratic People's Republic of Korea\",\n",
       "       'The Former Yugoslav Republic of Macedonia', 'Korea Team',\n",
       "       'Russian Federation', 'Ivory Coast',\n",
       "       'Independent Olympic Athletes', 'Barbados', 'Cambodia',\n",
       "       'Equatorial Guinea', 'Congo', 'South Sudan',\n",
       "       'Refugee Olympic Athletes', 'Marshall Islands', 'Palau',\n",
       "       'US Virgin Islands', 'Federated States of Micronesia',\n",
       "       'Central African Republic', 'Cayman Islands', 'Brunei',\n",
       "       'Saint Vincent and the Grenadines', 'British Virgin Islands',\n",
       "       'Swaziland', 'Saint Kitts and Nevis', 'Tuvalu',\n",
       "       'Netherlands Antilles', 'Serbia and Montenegro', 'Unified Team',\n",
       "       'Czechoslovakia', 'Mauritania', 'Yugoslavia', 'Soviet Union',\n",
       "       'Federal Republic of Germany',\n",
       "       'German Democratic Republic (Germany)', 'Yemen Arab Republic',\n",
       "       'Yemen Democratic Republic', 'South Vietnam', 'Rhodesia',\n",
       "       'United Arab Republic', 'Malaya', 'West Indies Federation',\n",
       "       'North Borneo', 'Saar', 'MIX', 'Australasia', 'Bohemia',\n",
       "       'Newfoundland'], dtype=object)"
      ]
     },
     "execution_count": 57,
     "metadata": {},
     "output_type": "execute_result"
    }
   ],
   "source": [
    "df_results[\"country_name\"].unique()"
   ]
  },
  {
   "cell_type": "code",
   "execution_count": 58,
   "id": "72495ab9-4207-4283-9352-50a0211f551f",
   "metadata": {},
   "outputs": [
    {
     "data": {
      "text/plain": [
       "(162804, 16)"
      ]
     },
     "execution_count": 58,
     "metadata": {},
     "output_type": "execute_result"
    }
   ],
   "source": [
    "df_results.shape"
   ]
  },
  {
   "cell_type": "code",
   "execution_count": 59,
   "id": "179c5ae6-a466-487a-98ab-e03581efdcb2",
   "metadata": {},
   "outputs": [],
   "source": [
    "df_results.drop(columns = ['Unnamed: 0','athlete_url','country_3_letter_code',\"value_unit\",\"value_type\"] , inplace = True )"
   ]
  },
  {
   "cell_type": "code",
   "execution_count": 60,
   "id": "e8d6c3af-244d-494a-b3f4-c002c72fe31d",
   "metadata": {},
   "outputs": [],
   "source": [
    "# Créer un dictionnaire de correspondance entre les noms de pays\n",
    "correspondance_pays = {\n",
    "    'Australasia': 'Australia',\n",
    "    'Czechoslovakia': 'Czech Republic',\n",
    "    'Federal Republic of Germany': 'Germany',\n",
    "    'German Democratic Republic (Germany)': 'Germany',\n",
    "    'Great Britain': 'United Kingdom',\n",
    "    'People\\'s Republic of China': 'China',\n",
    "    'Republic of Korea': 'South Korea',\n",
    "    'ROC': 'Russian Federation',  # Utiliser 'Russian Federation' pour ROC\n",
    "    'Olympic Athletes from Russia': 'Russian Federation',\n",
    "    'Soviet Union': 'Russian Federation',\n",
    "    'Unified Team': 'Russian Federation',\n",
    "    'Serbia and Montenegro': 'Serbia',\n",
    "    'Virgin Islands, US': 'United States Virgin Islands',\n",
    "    'United Arab Republic': 'Egypt'\n",
    "    # Ajoutez d'autres correspondances si nécessaire\n",
    "}\n",
    "\n",
    "# Remplacer les noms de pays dans la colonne 'country_name' en utilisant le dictionnaire de correspondance\n",
    "df_results['country_name'] = df_results['country_name'].replace(correspondance_pays)"
   ]
  },
  {
   "cell_type": "code",
   "execution_count": 73,
   "id": "614df2dd-6452-4e62-83eb-1ed72e0b752e",
   "metadata": {},
   "outputs": [],
   "source": [
    "df_results = df_results.rename(columns = {\"slug_game\":\"game_slug\"})"
   ]
  },
  {
   "cell_type": "code",
   "execution_count": 74,
   "id": "5f106824-23b7-4e19-802f-a65adc33a324",
   "metadata": {},
   "outputs": [
    {
     "name": "stdout",
     "output_type": "stream",
     "text": [
      "<class 'pandas.core.frame.DataFrame'>\n",
      "Int64Index: 162804 entries, 0 to 162803\n",
      "Data columns (total 11 columns):\n",
      " #   Column             Non-Null Count   Dtype \n",
      "---  ------             --------------   ----- \n",
      " 0   discipline_title   162804 non-null  object\n",
      " 1   event_title        162804 non-null  object\n",
      " 2   game_slug          162804 non-null  object\n",
      " 3   participant_type   162804 non-null  object\n",
      " 4   medal_type         20206 non-null   object\n",
      " 5   athletes           7976 non-null    object\n",
      " 6   rank_equal         32526 non-null   object\n",
      " 7   rank_position      158926 non-null  object\n",
      " 8   country_name       162804 non-null  object\n",
      " 9   country_code       157768 non-null  object\n",
      " 10  athlete_full_name  141646 non-null  object\n",
      "dtypes: object(11)\n",
      "memory usage: 14.9+ MB\n"
     ]
    }
   ],
   "source": [
    "df_results.info()"
   ]
  },
  {
   "cell_type": "markdown",
   "id": "f21ff22f-a531-4b4f-8dc6-04f253933211",
   "metadata": {},
   "source": [
    "### olympic hosts "
   ]
  },
  {
   "cell_type": "code",
   "execution_count": 62,
   "id": "979b1b30-60d9-4ef1-86f4-bb64be0b9a9a",
   "metadata": {},
   "outputs": [],
   "source": [
    "df_hosts = pd.read_xml(\"olympic_hosts.xml\")"
   ]
  },
  {
   "cell_type": "code",
   "execution_count": 63,
   "id": "3c4babad-7a1f-4c4c-bd38-1e70d6ce31e4",
   "metadata": {},
   "outputs": [
    {
     "data": {
      "text/html": [
       "<div>\n",
       "<style scoped>\n",
       "    .dataframe tbody tr th:only-of-type {\n",
       "        vertical-align: middle;\n",
       "    }\n",
       "\n",
       "    .dataframe tbody tr th {\n",
       "        vertical-align: top;\n",
       "    }\n",
       "\n",
       "    .dataframe thead th {\n",
       "        text-align: right;\n",
       "    }\n",
       "</style>\n",
       "<table border=\"1\" class=\"dataframe\">\n",
       "  <thead>\n",
       "    <tr style=\"text-align: right;\">\n",
       "      <th></th>\n",
       "      <th>index</th>\n",
       "      <th>game_slug</th>\n",
       "      <th>game_end_date</th>\n",
       "      <th>game_start_date</th>\n",
       "      <th>game_location</th>\n",
       "      <th>game_name</th>\n",
       "      <th>game_season</th>\n",
       "      <th>game_year</th>\n",
       "    </tr>\n",
       "  </thead>\n",
       "  <tbody>\n",
       "    <tr>\n",
       "      <th>0</th>\n",
       "      <td>0</td>\n",
       "      <td>beijing-2022</td>\n",
       "      <td>2022-02-20T12:00:00Z</td>\n",
       "      <td>2022-02-04T15:00:00Z</td>\n",
       "      <td>China</td>\n",
       "      <td>Beijing 2022</td>\n",
       "      <td>Winter</td>\n",
       "      <td>2022</td>\n",
       "    </tr>\n",
       "    <tr>\n",
       "      <th>1</th>\n",
       "      <td>1</td>\n",
       "      <td>tokyo-2020</td>\n",
       "      <td>2021-08-08T14:00:00Z</td>\n",
       "      <td>2021-07-23T11:00:00Z</td>\n",
       "      <td>Japan</td>\n",
       "      <td>Tokyo 2020</td>\n",
       "      <td>Summer</td>\n",
       "      <td>2020</td>\n",
       "    </tr>\n",
       "    <tr>\n",
       "      <th>2</th>\n",
       "      <td>2</td>\n",
       "      <td>pyeongchang-2018</td>\n",
       "      <td>2018-02-25T08:00:00Z</td>\n",
       "      <td>2018-02-08T23:00:00Z</td>\n",
       "      <td>Republic of Korea</td>\n",
       "      <td>PyeongChang 2018</td>\n",
       "      <td>Winter</td>\n",
       "      <td>2018</td>\n",
       "    </tr>\n",
       "    <tr>\n",
       "      <th>3</th>\n",
       "      <td>3</td>\n",
       "      <td>rio-2016</td>\n",
       "      <td>2016-08-21T21:00:00Z</td>\n",
       "      <td>2016-08-05T12:00:00Z</td>\n",
       "      <td>Brazil</td>\n",
       "      <td>Rio 2016</td>\n",
       "      <td>Summer</td>\n",
       "      <td>2016</td>\n",
       "    </tr>\n",
       "    <tr>\n",
       "      <th>4</th>\n",
       "      <td>4</td>\n",
       "      <td>sochi-2014</td>\n",
       "      <td>2014-02-23T16:00:00Z</td>\n",
       "      <td>2014-02-07T04:00:00Z</td>\n",
       "      <td>Russian Federation</td>\n",
       "      <td>Sochi 2014</td>\n",
       "      <td>Winter</td>\n",
       "      <td>2014</td>\n",
       "    </tr>\n",
       "  </tbody>\n",
       "</table>\n",
       "</div>"
      ],
      "text/plain": [
       "   index         game_slug         game_end_date       game_start_date  \\\n",
       "0      0      beijing-2022  2022-02-20T12:00:00Z  2022-02-04T15:00:00Z   \n",
       "1      1        tokyo-2020  2021-08-08T14:00:00Z  2021-07-23T11:00:00Z   \n",
       "2      2  pyeongchang-2018  2018-02-25T08:00:00Z  2018-02-08T23:00:00Z   \n",
       "3      3          rio-2016  2016-08-21T21:00:00Z  2016-08-05T12:00:00Z   \n",
       "4      4        sochi-2014  2014-02-23T16:00:00Z  2014-02-07T04:00:00Z   \n",
       "\n",
       "        game_location         game_name game_season  game_year  \n",
       "0               China      Beijing 2022      Winter       2022  \n",
       "1               Japan        Tokyo 2020      Summer       2020  \n",
       "2   Republic of Korea  PyeongChang 2018      Winter       2018  \n",
       "3              Brazil          Rio 2016      Summer       2016  \n",
       "4  Russian Federation        Sochi 2014      Winter       2014  "
      ]
     },
     "execution_count": 63,
     "metadata": {},
     "output_type": "execute_result"
    }
   ],
   "source": [
    "df_hosts.head()"
   ]
  },
  {
   "cell_type": "code",
   "execution_count": 13,
   "id": "e29fc056-2b53-420a-aea0-87438894043e",
   "metadata": {},
   "outputs": [
    {
     "data": {
      "text/plain": [
       "Index(['index', 'game_slug', 'game_end_date', 'game_start_date',\n",
       "       'game_location', 'game_name', 'game_season', 'game_year'],\n",
       "      dtype='object')"
      ]
     },
     "execution_count": 13,
     "metadata": {},
     "output_type": "execute_result"
    }
   ],
   "source": [
    "df_hosts.columns"
   ]
  },
  {
   "cell_type": "code",
   "execution_count": 64,
   "id": "8235e991-5f39-45ec-80b7-268a37a82217",
   "metadata": {},
   "outputs": [],
   "source": [
    "df_hosts.drop(columns = [\"index\",\"game_end_date\",\"game_start_date\",\"game_name\"],inplace = True)"
   ]
  },
  {
   "cell_type": "code",
   "execution_count": 65,
   "id": "b4b42112-39ca-4ff2-8fed-6428ff072978",
   "metadata": {},
   "outputs": [
    {
     "data": {
      "text/html": [
       "<div>\n",
       "<style scoped>\n",
       "    .dataframe tbody tr th:only-of-type {\n",
       "        vertical-align: middle;\n",
       "    }\n",
       "\n",
       "    .dataframe tbody tr th {\n",
       "        vertical-align: top;\n",
       "    }\n",
       "\n",
       "    .dataframe thead th {\n",
       "        text-align: right;\n",
       "    }\n",
       "</style>\n",
       "<table border=\"1\" class=\"dataframe\">\n",
       "  <thead>\n",
       "    <tr style=\"text-align: right;\">\n",
       "      <th></th>\n",
       "      <th>game_slug</th>\n",
       "      <th>game_location</th>\n",
       "      <th>game_season</th>\n",
       "      <th>game_year</th>\n",
       "    </tr>\n",
       "  </thead>\n",
       "  <tbody>\n",
       "    <tr>\n",
       "      <th>0</th>\n",
       "      <td>beijing-2022</td>\n",
       "      <td>China</td>\n",
       "      <td>Winter</td>\n",
       "      <td>2022</td>\n",
       "    </tr>\n",
       "    <tr>\n",
       "      <th>1</th>\n",
       "      <td>tokyo-2020</td>\n",
       "      <td>Japan</td>\n",
       "      <td>Summer</td>\n",
       "      <td>2020</td>\n",
       "    </tr>\n",
       "    <tr>\n",
       "      <th>2</th>\n",
       "      <td>pyeongchang-2018</td>\n",
       "      <td>Republic of Korea</td>\n",
       "      <td>Winter</td>\n",
       "      <td>2018</td>\n",
       "    </tr>\n",
       "    <tr>\n",
       "      <th>3</th>\n",
       "      <td>rio-2016</td>\n",
       "      <td>Brazil</td>\n",
       "      <td>Summer</td>\n",
       "      <td>2016</td>\n",
       "    </tr>\n",
       "    <tr>\n",
       "      <th>4</th>\n",
       "      <td>sochi-2014</td>\n",
       "      <td>Russian Federation</td>\n",
       "      <td>Winter</td>\n",
       "      <td>2014</td>\n",
       "    </tr>\n",
       "  </tbody>\n",
       "</table>\n",
       "</div>"
      ],
      "text/plain": [
       "          game_slug       game_location game_season  game_year\n",
       "0      beijing-2022               China      Winter       2022\n",
       "1        tokyo-2020               Japan      Summer       2020\n",
       "2  pyeongchang-2018   Republic of Korea      Winter       2018\n",
       "3          rio-2016              Brazil      Summer       2016\n",
       "4        sochi-2014  Russian Federation      Winter       2014"
      ]
     },
     "execution_count": 65,
     "metadata": {},
     "output_type": "execute_result"
    }
   ],
   "source": [
    "df_hosts.head()"
   ]
  },
  {
   "cell_type": "code",
   "execution_count": 75,
   "id": "2e6ed32e-2a81-4ee6-a7ae-c7ecd34f6aa8",
   "metadata": {},
   "outputs": [],
   "source": [
    "df_results = pd.merge(df_results, df_hosts, on='game_slug')"
   ]
  },
  {
   "cell_type": "code",
   "execution_count": 77,
   "id": "fdbbd9ac-9f82-425a-a33e-ed382e5ddad5",
   "metadata": {},
   "outputs": [
    {
     "name": "stdout",
     "output_type": "stream",
     "text": [
      "<class 'pandas.core.frame.DataFrame'>\n",
      "Int64Index: 162804 entries, 0 to 162803\n",
      "Data columns (total 14 columns):\n",
      " #   Column             Non-Null Count   Dtype \n",
      "---  ------             --------------   ----- \n",
      " 0   discipline_title   162804 non-null  object\n",
      " 1   event_title        162804 non-null  object\n",
      " 2   game_slug          162804 non-null  object\n",
      " 3   participant_type   162804 non-null  object\n",
      " 4   medal_type         20206 non-null   object\n",
      " 5   athletes           7976 non-null    object\n",
      " 6   rank_equal         32526 non-null   object\n",
      " 7   rank_position      158926 non-null  object\n",
      " 8   country_name       162804 non-null  object\n",
      " 9   country_code       157768 non-null  object\n",
      " 10  athlete_full_name  141646 non-null  object\n",
      " 11  game_location      162804 non-null  object\n",
      " 12  game_season        162804 non-null  object\n",
      " 13  game_year          162804 non-null  int64 \n",
      "dtypes: int64(1), object(13)\n",
      "memory usage: 18.6+ MB\n"
     ]
    }
   ],
   "source": [
    "df_results.info()"
   ]
  },
  {
   "cell_type": "markdown",
   "id": "80294180-1cb1-44be-b1d7-b38f84f69a5e",
   "metadata": {},
   "source": [
    "### Creation de ta table results_Jo ( jointure entre hosts et results ) "
   ]
  },
  {
   "cell_type": "code",
   "execution_count": 79,
   "id": "bdc70aaa-4d9c-41f8-9f0b-15da9be403d6",
   "metadata": {},
   "outputs": [
    {
     "name": "stdout",
     "output_type": "stream",
     "text": [
      "Table results_Jo créée avec succès.\n"
     ]
    }
   ],
   "source": [
    "import psycopg2\n",
    "\n",
    "# Informations de connexion\n",
    "user = \"perez\"\n",
    "password = \"jo2024!\"\n",
    "host = \"postgresql-perez.alwaysdata.net\"\n",
    "port = \"5432\"\n",
    "database = \"perez_vercel_db\"\n",
    "\n",
    "# Connexion à la base de données PostgreSQL\n",
    "conn = psycopg2.connect(\n",
    "    host=host,\n",
    "    port=port,\n",
    "    database=database,\n",
    "    user=user,\n",
    "    password=password\n",
    ")\n",
    "\n",
    "# Création d'un curseur\n",
    "cur = conn.cursor()\n",
    "\n",
    "# Requête SQL pour créer la table results_Jo\n",
    "create_table_query = \"\"\"\n",
    "CREATE TABLE results_Jo (\n",
    "    id SERIAL PRIMARY KEY,\n",
    "    discipline_title VARCHAR(255),\n",
    "    event_title VARCHAR(255),\n",
    "    game_slug VARCHAR(255),\n",
    "    participant_type VARCHAR(255),\n",
    "    medal_type VARCHAR(255),\n",
    "    athletes VARCHAR(255),\n",
    "    rank_equal VARCHAR(255),\n",
    "    rank_position VARCHAR(255),\n",
    "    country_name VARCHAR(255),\n",
    "    country_code VARCHAR(255),\n",
    "    athlete_full_name VARCHAR(255),\n",
    "    game_location VARCHAR(255),\n",
    "    game_season VARCHAR(255),\n",
    "    game_year INT\n",
    ")\n",
    "\"\"\"\n",
    "\n",
    "# Exécution de la requête SQL\n",
    "cur.execute(create_table_query)\n",
    "\n",
    "# Validation des changements\n",
    "conn.commit()\n",
    "\n",
    "# Fermeture du curseur et de la connexion\n",
    "cur.close()\n",
    "conn.close()\n",
    "\n",
    "print(\"Table results_Jo créée avec succès.\")\n"
   ]
  },
  {
   "cell_type": "code",
   "execution_count": 80,
   "id": "965d9757-03ee-4e6f-8180-db494650793d",
   "metadata": {},
   "outputs": [
    {
     "name": "stdout",
     "output_type": "stream",
     "text": [
      "Insertion des données réussie.\n"
     ]
    }
   ],
   "source": [
    "import pandas as pd\n",
    "from sqlalchemy import create_engine\n",
    "import psycopg2\n",
    "\n",
    "# Informations de connexion\n",
    "user = \"perez\"\n",
    "password = \"jo2024!\"\n",
    "host = \"postgresql-perez.alwaysdata.net\"\n",
    "port = \"5432\"\n",
    "database = \"perez_vercel_db\"\n",
    "\n",
    "# Création de l'URL de connexion\n",
    "connection_url = f\"postgresql+psycopg2://{user}:{password}@{host}:{port}/{database}\"\n",
    "\n",
    "# Création de l'engine SQLAlchemy\n",
    "engine = create_engine(connection_url)\n",
    "\n",
    "# Insertion du DataFrame dans la table `athletes_jo`\n",
    "df_results.to_sql('results_jo', engine, if_exists='append', index=False)\n",
    "\n",
    "print(\"Insertion des données réussie.\")"
   ]
  },
  {
   "cell_type": "code",
   "execution_count": 111,
   "id": "48345f00-486f-4ef0-b9ad-d7c889adad78",
   "metadata": {},
   "outputs": [],
   "source": [
    "import pandas as pd\n",
    "import psycopg2\n",
    "\n",
    "# Informations de connexion\n",
    "user = \"perez\"\n",
    "password = \"jo2024!\"\n",
    "host = \"postgresql-perez.alwaysdata.net\"\n",
    "port = \"5432\"\n",
    "database = \"perez_vercel_db\"\n",
    "\n",
    "# Connexion à la base de données PostgreSQL\n",
    "conn = psycopg2.connect(\n",
    "    host=host,\n",
    "    port=port,\n",
    "    database=database,\n",
    "    user=user,\n",
    "    password=password\n",
    ")\n",
    "\n",
    "# Création d'un curseur\n",
    "cur = conn.cursor()\n",
    "\n",
    "# Exécution de la requête SQL\n",
    "query = \"SELECT * FROM results_jo\"\n",
    "cur.execute(query)\n",
    "\n",
    "# Récupération des résultats dans un DataFrame\n",
    "columns = [desc[0] for desc in cur.description]\n",
    "df_results_jo = pd.DataFrame(cur.fetchall(), columns=columns)\n",
    "\n",
    "# Affichage du DataFrame\n",
    "df_results_jo.head(5)\n",
    "\n",
    "# Fermeture du curseur et de la connexion\n",
    "cur.close()\n",
    "conn.close()\n"
   ]
  },
  {
   "cell_type": "code",
   "execution_count": 114,
   "id": "16d291d2-bef1-4aea-bca0-3763790a2a03",
   "metadata": {},
   "outputs": [
    {
     "data": {
      "text/html": [
       "<div>\n",
       "<style scoped>\n",
       "    .dataframe tbody tr th:only-of-type {\n",
       "        vertical-align: middle;\n",
       "    }\n",
       "\n",
       "    .dataframe tbody tr th {\n",
       "        vertical-align: top;\n",
       "    }\n",
       "\n",
       "    .dataframe thead th {\n",
       "        text-align: right;\n",
       "    }\n",
       "</style>\n",
       "<table border=\"1\" class=\"dataframe\">\n",
       "  <thead>\n",
       "    <tr style=\"text-align: right;\">\n",
       "      <th></th>\n",
       "      <th>id</th>\n",
       "      <th>discipline_title</th>\n",
       "      <th>event_title</th>\n",
       "      <th>game_slug</th>\n",
       "      <th>participant_type</th>\n",
       "      <th>medal_type</th>\n",
       "      <th>athletes</th>\n",
       "      <th>rank_equal</th>\n",
       "      <th>rank_position</th>\n",
       "      <th>country_name</th>\n",
       "      <th>country_code</th>\n",
       "      <th>athlete_full_name</th>\n",
       "      <th>game_location</th>\n",
       "      <th>game_season</th>\n",
       "      <th>game_year</th>\n",
       "    </tr>\n",
       "  </thead>\n",
       "  <tbody>\n",
       "    <tr>\n",
       "      <th>0</th>\n",
       "      <td>1</td>\n",
       "      <td>Curling</td>\n",
       "      <td>Mixed Doubles</td>\n",
       "      <td>beijing-2022</td>\n",
       "      <td>GameTeam</td>\n",
       "      <td>GOLD</td>\n",
       "      <td>[('Stefania CONSTANTINI', 'https://olympics.co...</td>\n",
       "      <td>false</td>\n",
       "      <td>1</td>\n",
       "      <td>Italy</td>\n",
       "      <td>IT</td>\n",
       "      <td>None</td>\n",
       "      <td>China</td>\n",
       "      <td>Winter</td>\n",
       "      <td>2022</td>\n",
       "    </tr>\n",
       "    <tr>\n",
       "      <th>1</th>\n",
       "      <td>2</td>\n",
       "      <td>Curling</td>\n",
       "      <td>Mixed Doubles</td>\n",
       "      <td>beijing-2022</td>\n",
       "      <td>GameTeam</td>\n",
       "      <td>SILVER</td>\n",
       "      <td>[('Kristin SKASLIEN', 'https://olympics.com/en...</td>\n",
       "      <td>false</td>\n",
       "      <td>2</td>\n",
       "      <td>Norway</td>\n",
       "      <td>NO</td>\n",
       "      <td>None</td>\n",
       "      <td>China</td>\n",
       "      <td>Winter</td>\n",
       "      <td>2022</td>\n",
       "    </tr>\n",
       "    <tr>\n",
       "      <th>2</th>\n",
       "      <td>3</td>\n",
       "      <td>Curling</td>\n",
       "      <td>Mixed Doubles</td>\n",
       "      <td>beijing-2022</td>\n",
       "      <td>GameTeam</td>\n",
       "      <td>BRONZE</td>\n",
       "      <td>[('Almida DE VAL', 'https://olympics.com/en/at...</td>\n",
       "      <td>false</td>\n",
       "      <td>3</td>\n",
       "      <td>Sweden</td>\n",
       "      <td>SE</td>\n",
       "      <td>None</td>\n",
       "      <td>China</td>\n",
       "      <td>Winter</td>\n",
       "      <td>2022</td>\n",
       "    </tr>\n",
       "    <tr>\n",
       "      <th>3</th>\n",
       "      <td>4</td>\n",
       "      <td>Curling</td>\n",
       "      <td>Mixed Doubles</td>\n",
       "      <td>beijing-2022</td>\n",
       "      <td>GameTeam</td>\n",
       "      <td>None</td>\n",
       "      <td>[('Jennifer DODDS', 'https://olympics.com/en/a...</td>\n",
       "      <td>false</td>\n",
       "      <td>4</td>\n",
       "      <td>United Kingdom</td>\n",
       "      <td>GB</td>\n",
       "      <td>None</td>\n",
       "      <td>China</td>\n",
       "      <td>Winter</td>\n",
       "      <td>2022</td>\n",
       "    </tr>\n",
       "    <tr>\n",
       "      <th>4</th>\n",
       "      <td>5</td>\n",
       "      <td>Curling</td>\n",
       "      <td>Mixed Doubles</td>\n",
       "      <td>beijing-2022</td>\n",
       "      <td>GameTeam</td>\n",
       "      <td>None</td>\n",
       "      <td>[('Rachel HOMAN', 'https://olympics.com/en/ath...</td>\n",
       "      <td>false</td>\n",
       "      <td>5</td>\n",
       "      <td>Canada</td>\n",
       "      <td>CA</td>\n",
       "      <td>None</td>\n",
       "      <td>China</td>\n",
       "      <td>Winter</td>\n",
       "      <td>2022</td>\n",
       "    </tr>\n",
       "  </tbody>\n",
       "</table>\n",
       "</div>"
      ],
      "text/plain": [
       "   id discipline_title    event_title     game_slug participant_type  \\\n",
       "0   1          Curling  Mixed Doubles  beijing-2022         GameTeam   \n",
       "1   2          Curling  Mixed Doubles  beijing-2022         GameTeam   \n",
       "2   3          Curling  Mixed Doubles  beijing-2022         GameTeam   \n",
       "3   4          Curling  Mixed Doubles  beijing-2022         GameTeam   \n",
       "4   5          Curling  Mixed Doubles  beijing-2022         GameTeam   \n",
       "\n",
       "  medal_type                                           athletes rank_equal  \\\n",
       "0       GOLD  [('Stefania CONSTANTINI', 'https://olympics.co...      false   \n",
       "1     SILVER  [('Kristin SKASLIEN', 'https://olympics.com/en...      false   \n",
       "2     BRONZE  [('Almida DE VAL', 'https://olympics.com/en/at...      false   \n",
       "3       None  [('Jennifer DODDS', 'https://olympics.com/en/a...      false   \n",
       "4       None  [('Rachel HOMAN', 'https://olympics.com/en/ath...      false   \n",
       "\n",
       "  rank_position    country_name country_code athlete_full_name game_location  \\\n",
       "0             1           Italy           IT              None         China   \n",
       "1             2          Norway           NO              None         China   \n",
       "2             3          Sweden           SE              None         China   \n",
       "3             4  United Kingdom           GB              None         China   \n",
       "4             5          Canada           CA              None         China   \n",
       "\n",
       "  game_season  game_year  \n",
       "0      Winter       2022  \n",
       "1      Winter       2022  \n",
       "2      Winter       2022  \n",
       "3      Winter       2022  \n",
       "4      Winter       2022  "
      ]
     },
     "execution_count": 114,
     "metadata": {},
     "output_type": "execute_result"
    }
   ],
   "source": [
    "df_results_jo.head()"
   ]
  },
  {
   "cell_type": "code",
   "execution_count": 110,
   "id": "95f237f7-8b70-4607-ab5c-f0e3c98310f1",
   "metadata": {},
   "outputs": [
    {
     "name": "stdout",
     "output_type": "stream",
     "text": [
      "Table Jo supprimé avec succès.\n"
     ]
    }
   ],
   "source": [
    "import psycopg2\n",
    "\n",
    "# Informations de connexion\n",
    "user = \"perez\"\n",
    "password = \"jo2024!\"\n",
    "host = \"postgresql-perez.alwaysdata.net\"\n",
    "port = \"5432\"\n",
    "database = \"perez_vercel_db\"\n",
    "\n",
    "# Connexion à la base de données PostgreSQL\n",
    "conn = psycopg2.connect(\n",
    "    host=host,\n",
    "    port=port,\n",
    "    database=database,\n",
    "    user=user,\n",
    "    password=password\n",
    ")\n",
    "\n",
    "# Création d'un curseur\n",
    "cur = conn.cursor()\n",
    "\n",
    "# Requête SQL pour créer la table results_Jo\n",
    "drop_table_query = \"\"\"\n",
    "drop table jo\n",
    "\"\"\"\n",
    "\n",
    "# Exécution de la requête SQL\n",
    "cur.execute(drop_table_query)\n",
    "\n",
    "# Validation des changements\n",
    "conn.commit()\n",
    "\n",
    "# Fermeture du curseur et de la connexion\n",
    "cur.close()\n",
    "conn.close()\n",
    "\n",
    "print(\"Table Jo supprimé avec succès.\")\n"
   ]
  },
  {
   "cell_type": "markdown",
   "id": "b664ae62-f852-4f24-95ab-600000cfe885",
   "metadata": {},
   "source": [
    "# Clustering "
   ]
  },
  {
   "cell_type": "markdown",
   "id": "2014c173-bd1e-476d-8098-d369ff7f44e3",
   "metadata": {},
   "source": [
    "### olympic medals dataSet\n"
   ]
  },
  {
   "cell_type": "code",
   "execution_count": 115,
   "id": "5897392f-e826-405e-9cdd-373f4548c9a6",
   "metadata": {},
   "outputs": [],
   "source": [
    "df_medals = df_results_jo"
   ]
  },
  {
   "cell_type": "code",
   "execution_count": 116,
   "id": "79e3fe29-df25-4c1d-b963-29b263cf1907",
   "metadata": {},
   "outputs": [
    {
     "data": {
      "text/html": [
       "<div>\n",
       "<style scoped>\n",
       "    .dataframe tbody tr th:only-of-type {\n",
       "        vertical-align: middle;\n",
       "    }\n",
       "\n",
       "    .dataframe tbody tr th {\n",
       "        vertical-align: top;\n",
       "    }\n",
       "\n",
       "    .dataframe thead th {\n",
       "        text-align: right;\n",
       "    }\n",
       "</style>\n",
       "<table border=\"1\" class=\"dataframe\">\n",
       "  <thead>\n",
       "    <tr style=\"text-align: right;\">\n",
       "      <th></th>\n",
       "      <th>id</th>\n",
       "      <th>discipline_title</th>\n",
       "      <th>event_title</th>\n",
       "      <th>game_slug</th>\n",
       "      <th>participant_type</th>\n",
       "      <th>medal_type</th>\n",
       "      <th>athletes</th>\n",
       "      <th>rank_equal</th>\n",
       "      <th>rank_position</th>\n",
       "      <th>country_name</th>\n",
       "      <th>country_code</th>\n",
       "      <th>athlete_full_name</th>\n",
       "      <th>game_location</th>\n",
       "      <th>game_season</th>\n",
       "      <th>game_year</th>\n",
       "    </tr>\n",
       "  </thead>\n",
       "  <tbody>\n",
       "    <tr>\n",
       "      <th>0</th>\n",
       "      <td>1</td>\n",
       "      <td>Curling</td>\n",
       "      <td>Mixed Doubles</td>\n",
       "      <td>beijing-2022</td>\n",
       "      <td>GameTeam</td>\n",
       "      <td>GOLD</td>\n",
       "      <td>[('Stefania CONSTANTINI', 'https://olympics.co...</td>\n",
       "      <td>false</td>\n",
       "      <td>1</td>\n",
       "      <td>Italy</td>\n",
       "      <td>IT</td>\n",
       "      <td>None</td>\n",
       "      <td>China</td>\n",
       "      <td>Winter</td>\n",
       "      <td>2022</td>\n",
       "    </tr>\n",
       "    <tr>\n",
       "      <th>1</th>\n",
       "      <td>2</td>\n",
       "      <td>Curling</td>\n",
       "      <td>Mixed Doubles</td>\n",
       "      <td>beijing-2022</td>\n",
       "      <td>GameTeam</td>\n",
       "      <td>SILVER</td>\n",
       "      <td>[('Kristin SKASLIEN', 'https://olympics.com/en...</td>\n",
       "      <td>false</td>\n",
       "      <td>2</td>\n",
       "      <td>Norway</td>\n",
       "      <td>NO</td>\n",
       "      <td>None</td>\n",
       "      <td>China</td>\n",
       "      <td>Winter</td>\n",
       "      <td>2022</td>\n",
       "    </tr>\n",
       "    <tr>\n",
       "      <th>2</th>\n",
       "      <td>3</td>\n",
       "      <td>Curling</td>\n",
       "      <td>Mixed Doubles</td>\n",
       "      <td>beijing-2022</td>\n",
       "      <td>GameTeam</td>\n",
       "      <td>BRONZE</td>\n",
       "      <td>[('Almida DE VAL', 'https://olympics.com/en/at...</td>\n",
       "      <td>false</td>\n",
       "      <td>3</td>\n",
       "      <td>Sweden</td>\n",
       "      <td>SE</td>\n",
       "      <td>None</td>\n",
       "      <td>China</td>\n",
       "      <td>Winter</td>\n",
       "      <td>2022</td>\n",
       "    </tr>\n",
       "    <tr>\n",
       "      <th>3</th>\n",
       "      <td>4</td>\n",
       "      <td>Curling</td>\n",
       "      <td>Mixed Doubles</td>\n",
       "      <td>beijing-2022</td>\n",
       "      <td>GameTeam</td>\n",
       "      <td>None</td>\n",
       "      <td>[('Jennifer DODDS', 'https://olympics.com/en/a...</td>\n",
       "      <td>false</td>\n",
       "      <td>4</td>\n",
       "      <td>United Kingdom</td>\n",
       "      <td>GB</td>\n",
       "      <td>None</td>\n",
       "      <td>China</td>\n",
       "      <td>Winter</td>\n",
       "      <td>2022</td>\n",
       "    </tr>\n",
       "    <tr>\n",
       "      <th>4</th>\n",
       "      <td>5</td>\n",
       "      <td>Curling</td>\n",
       "      <td>Mixed Doubles</td>\n",
       "      <td>beijing-2022</td>\n",
       "      <td>GameTeam</td>\n",
       "      <td>None</td>\n",
       "      <td>[('Rachel HOMAN', 'https://olympics.com/en/ath...</td>\n",
       "      <td>false</td>\n",
       "      <td>5</td>\n",
       "      <td>Canada</td>\n",
       "      <td>CA</td>\n",
       "      <td>None</td>\n",
       "      <td>China</td>\n",
       "      <td>Winter</td>\n",
       "      <td>2022</td>\n",
       "    </tr>\n",
       "  </tbody>\n",
       "</table>\n",
       "</div>"
      ],
      "text/plain": [
       "   id discipline_title    event_title     game_slug participant_type  \\\n",
       "0   1          Curling  Mixed Doubles  beijing-2022         GameTeam   \n",
       "1   2          Curling  Mixed Doubles  beijing-2022         GameTeam   \n",
       "2   3          Curling  Mixed Doubles  beijing-2022         GameTeam   \n",
       "3   4          Curling  Mixed Doubles  beijing-2022         GameTeam   \n",
       "4   5          Curling  Mixed Doubles  beijing-2022         GameTeam   \n",
       "\n",
       "  medal_type                                           athletes rank_equal  \\\n",
       "0       GOLD  [('Stefania CONSTANTINI', 'https://olympics.co...      false   \n",
       "1     SILVER  [('Kristin SKASLIEN', 'https://olympics.com/en...      false   \n",
       "2     BRONZE  [('Almida DE VAL', 'https://olympics.com/en/at...      false   \n",
       "3       None  [('Jennifer DODDS', 'https://olympics.com/en/a...      false   \n",
       "4       None  [('Rachel HOMAN', 'https://olympics.com/en/ath...      false   \n",
       "\n",
       "  rank_position    country_name country_code athlete_full_name game_location  \\\n",
       "0             1           Italy           IT              None         China   \n",
       "1             2          Norway           NO              None         China   \n",
       "2             3          Sweden           SE              None         China   \n",
       "3             4  United Kingdom           GB              None         China   \n",
       "4             5          Canada           CA              None         China   \n",
       "\n",
       "  game_season  game_year  \n",
       "0      Winter       2022  \n",
       "1      Winter       2022  \n",
       "2      Winter       2022  \n",
       "3      Winter       2022  \n",
       "4      Winter       2022  "
      ]
     },
     "execution_count": 116,
     "metadata": {},
     "output_type": "execute_result"
    }
   ],
   "source": [
    "df_medals.head()"
   ]
  },
  {
   "cell_type": "code",
   "execution_count": 117,
   "id": "231eb362-a4c9-4531-8c8b-48de238debfb",
   "metadata": {},
   "outputs": [
    {
     "data": {
      "text/plain": [
       "Index(['id', 'discipline_title', 'event_title', 'game_slug',\n",
       "       'participant_type', 'medal_type', 'athletes', 'rank_equal',\n",
       "       'rank_position', 'country_name', 'country_code', 'athlete_full_name',\n",
       "       'game_location', 'game_season', 'game_year'],\n",
       "      dtype='object')"
      ]
     },
     "execution_count": 117,
     "metadata": {},
     "output_type": "execute_result"
    }
   ],
   "source": [
    "df_medals.columns"
   ]
  },
  {
   "cell_type": "code",
   "execution_count": 118,
   "id": "5f1f75bd-2f4a-4e4d-9df2-f5d3d09a8711",
   "metadata": {},
   "outputs": [
    {
     "name": "stdout",
     "output_type": "stream",
     "text": [
      "<class 'pandas.core.frame.DataFrame'>\n",
      "RangeIndex: 162804 entries, 0 to 162803\n",
      "Data columns (total 15 columns):\n",
      " #   Column             Non-Null Count   Dtype \n",
      "---  ------             --------------   ----- \n",
      " 0   id                 162804 non-null  int64 \n",
      " 1   discipline_title   162804 non-null  object\n",
      " 2   event_title        162804 non-null  object\n",
      " 3   game_slug          162804 non-null  object\n",
      " 4   participant_type   162804 non-null  object\n",
      " 5   medal_type         20206 non-null   object\n",
      " 6   athletes           7976 non-null    object\n",
      " 7   rank_equal         32526 non-null   object\n",
      " 8   rank_position      158926 non-null  object\n",
      " 9   country_name       162804 non-null  object\n",
      " 10  country_code       157768 non-null  object\n",
      " 11  athlete_full_name  141646 non-null  object\n",
      " 12  game_location      162804 non-null  object\n",
      " 13  game_season        162804 non-null  object\n",
      " 14  game_year          162804 non-null  int64 \n",
      "dtypes: int64(2), object(13)\n",
      "memory usage: 18.6+ MB\n"
     ]
    }
   ],
   "source": [
    "df_medals.info()"
   ]
  },
  {
   "cell_type": "markdown",
   "id": "d23134c8-72eb-426c-8ffe-05b19932134a",
   "metadata": {},
   "source": [
    "## clustering nombre de medails par type "
   ]
  },
  {
   "cell_type": "code",
   "execution_count": 119,
   "id": "d8b825e6-aa64-438f-9a25-efef43f45531",
   "metadata": {},
   "outputs": [],
   "source": [
    "medals_per_country = df_medals.groupby(['country_name', 'medal_type']).size().reset_index(name='medal_count')"
   ]
  },
  {
   "cell_type": "code",
   "execution_count": 120,
   "id": "ee09bbfd-3c3b-4fcc-9356-411ce033cf74",
   "metadata": {},
   "outputs": [
    {
     "data": {
      "text/html": [
       "<div>\n",
       "<style scoped>\n",
       "    .dataframe tbody tr th:only-of-type {\n",
       "        vertical-align: middle;\n",
       "    }\n",
       "\n",
       "    .dataframe tbody tr th {\n",
       "        vertical-align: top;\n",
       "    }\n",
       "\n",
       "    .dataframe thead th {\n",
       "        text-align: right;\n",
       "    }\n",
       "</style>\n",
       "<table border=\"1\" class=\"dataframe\">\n",
       "  <thead>\n",
       "    <tr style=\"text-align: right;\">\n",
       "      <th></th>\n",
       "      <th>country_name</th>\n",
       "      <th>medal_type</th>\n",
       "      <th>medal_count</th>\n",
       "    </tr>\n",
       "  </thead>\n",
       "  <tbody>\n",
       "    <tr>\n",
       "      <th>0</th>\n",
       "      <td>Afghanistan</td>\n",
       "      <td>BRONZE</td>\n",
       "      <td>2</td>\n",
       "    </tr>\n",
       "    <tr>\n",
       "      <th>1</th>\n",
       "      <td>Algeria</td>\n",
       "      <td>BRONZE</td>\n",
       "      <td>8</td>\n",
       "    </tr>\n",
       "    <tr>\n",
       "      <th>2</th>\n",
       "      <td>Algeria</td>\n",
       "      <td>GOLD</td>\n",
       "      <td>5</td>\n",
       "    </tr>\n",
       "    <tr>\n",
       "      <th>3</th>\n",
       "      <td>Algeria</td>\n",
       "      <td>SILVER</td>\n",
       "      <td>4</td>\n",
       "    </tr>\n",
       "    <tr>\n",
       "      <th>4</th>\n",
       "      <td>Argentina</td>\n",
       "      <td>BRONZE</td>\n",
       "      <td>30</td>\n",
       "    </tr>\n",
       "    <tr>\n",
       "      <th>...</th>\n",
       "      <td>...</td>\n",
       "      <td>...</td>\n",
       "      <td>...</td>\n",
       "    </tr>\n",
       "    <tr>\n",
       "      <th>348</th>\n",
       "      <td>Zambia</td>\n",
       "      <td>BRONZE</td>\n",
       "      <td>1</td>\n",
       "    </tr>\n",
       "    <tr>\n",
       "      <th>349</th>\n",
       "      <td>Zambia</td>\n",
       "      <td>SILVER</td>\n",
       "      <td>1</td>\n",
       "    </tr>\n",
       "    <tr>\n",
       "      <th>350</th>\n",
       "      <td>Zimbabwe</td>\n",
       "      <td>BRONZE</td>\n",
       "      <td>1</td>\n",
       "    </tr>\n",
       "    <tr>\n",
       "      <th>351</th>\n",
       "      <td>Zimbabwe</td>\n",
       "      <td>GOLD</td>\n",
       "      <td>3</td>\n",
       "    </tr>\n",
       "    <tr>\n",
       "      <th>352</th>\n",
       "      <td>Zimbabwe</td>\n",
       "      <td>SILVER</td>\n",
       "      <td>4</td>\n",
       "    </tr>\n",
       "  </tbody>\n",
       "</table>\n",
       "<p>353 rows × 3 columns</p>\n",
       "</div>"
      ],
      "text/plain": [
       "    country_name medal_type  medal_count\n",
       "0    Afghanistan     BRONZE            2\n",
       "1        Algeria     BRONZE            8\n",
       "2        Algeria       GOLD            5\n",
       "3        Algeria     SILVER            4\n",
       "4      Argentina     BRONZE           30\n",
       "..           ...        ...          ...\n",
       "348       Zambia     BRONZE            1\n",
       "349       Zambia     SILVER            1\n",
       "350     Zimbabwe     BRONZE            1\n",
       "351     Zimbabwe       GOLD            3\n",
       "352     Zimbabwe     SILVER            4\n",
       "\n",
       "[353 rows x 3 columns]"
      ]
     },
     "execution_count": 120,
     "metadata": {},
     "output_type": "execute_result"
    }
   ],
   "source": [
    "medals_per_country"
   ]
  },
  {
   "cell_type": "code",
   "execution_count": 121,
   "id": "cc3d7c12-507a-4b7b-a212-567b759a2b15",
   "metadata": {},
   "outputs": [
    {
     "data": {
      "text/plain": [
       "array(['BRONZE', 'GOLD', 'SILVER'], dtype=object)"
      ]
     },
     "execution_count": 121,
     "metadata": {},
     "output_type": "execute_result"
    }
   ],
   "source": [
    "medals_per_country[\"medal_type\"].unique()"
   ]
  },
  {
   "cell_type": "markdown",
   "id": "b8eb7c01-eaec-4047-bbff-79592d99f998",
   "metadata": {},
   "source": [
    "### Determiner le k optimal par la methode coude"
   ]
  },
  {
   "cell_type": "code",
   "execution_count": 122,
   "id": "30e3d4a1-cc24-4143-9bf3-4c9f70e63d66",
   "metadata": {},
   "outputs": [
    {
     "name": "stderr",
     "output_type": "stream",
     "text": [
      "C:\\Users\\utilisateur\\AppData\\Local\\Programs\\Python\\Python310\\lib\\site-packages\\sklearn\\cluster\\_kmeans.py:1416: FutureWarning: The default value of `n_init` will change from 10 to 'auto' in 1.4. Set the value of `n_init` explicitly to suppress the warning\n",
      "  super()._check_params_vs_input(X, default_n_init=10)\n",
      "C:\\Users\\utilisateur\\AppData\\Local\\Programs\\Python\\Python310\\lib\\site-packages\\sklearn\\cluster\\_kmeans.py:1416: FutureWarning: The default value of `n_init` will change from 10 to 'auto' in 1.4. Set the value of `n_init` explicitly to suppress the warning\n",
      "  super()._check_params_vs_input(X, default_n_init=10)\n",
      "C:\\Users\\utilisateur\\AppData\\Local\\Programs\\Python\\Python310\\lib\\site-packages\\sklearn\\cluster\\_kmeans.py:1416: FutureWarning: The default value of `n_init` will change from 10 to 'auto' in 1.4. Set the value of `n_init` explicitly to suppress the warning\n",
      "  super()._check_params_vs_input(X, default_n_init=10)\n",
      "C:\\Users\\utilisateur\\AppData\\Local\\Programs\\Python\\Python310\\lib\\site-packages\\sklearn\\cluster\\_kmeans.py:1416: FutureWarning: The default value of `n_init` will change from 10 to 'auto' in 1.4. Set the value of `n_init` explicitly to suppress the warning\n",
      "  super()._check_params_vs_input(X, default_n_init=10)\n",
      "C:\\Users\\utilisateur\\AppData\\Local\\Programs\\Python\\Python310\\lib\\site-packages\\sklearn\\cluster\\_kmeans.py:1416: FutureWarning: The default value of `n_init` will change from 10 to 'auto' in 1.4. Set the value of `n_init` explicitly to suppress the warning\n",
      "  super()._check_params_vs_input(X, default_n_init=10)\n",
      "C:\\Users\\utilisateur\\AppData\\Local\\Programs\\Python\\Python310\\lib\\site-packages\\sklearn\\cluster\\_kmeans.py:1416: FutureWarning: The default value of `n_init` will change from 10 to 'auto' in 1.4. Set the value of `n_init` explicitly to suppress the warning\n",
      "  super()._check_params_vs_input(X, default_n_init=10)\n",
      "C:\\Users\\utilisateur\\AppData\\Local\\Programs\\Python\\Python310\\lib\\site-packages\\sklearn\\cluster\\_kmeans.py:1416: FutureWarning: The default value of `n_init` will change from 10 to 'auto' in 1.4. Set the value of `n_init` explicitly to suppress the warning\n",
      "  super()._check_params_vs_input(X, default_n_init=10)\n",
      "C:\\Users\\utilisateur\\AppData\\Local\\Programs\\Python\\Python310\\lib\\site-packages\\sklearn\\cluster\\_kmeans.py:1416: FutureWarning: The default value of `n_init` will change from 10 to 'auto' in 1.4. Set the value of `n_init` explicitly to suppress the warning\n",
      "  super()._check_params_vs_input(X, default_n_init=10)\n",
      "C:\\Users\\utilisateur\\AppData\\Local\\Programs\\Python\\Python310\\lib\\site-packages\\sklearn\\cluster\\_kmeans.py:1416: FutureWarning: The default value of `n_init` will change from 10 to 'auto' in 1.4. Set the value of `n_init` explicitly to suppress the warning\n",
      "  super()._check_params_vs_input(X, default_n_init=10)\n"
     ]
    },
    {
     "data": {
      "image/png": "[encoded data removed]",
      "text/plain": [
       "<Figure size 800x550 with 2 Axes>"
      ]
     },
     "metadata": {},
     "output_type": "display_data"
    },
    {
     "data": {
      "text/plain": [
       "<Axes: title={'center': 'Distortion Score Elbow for KMeans Clustering'}, xlabel='k', ylabel='distortion score'>"
      ]
     },
     "execution_count": 122,
     "metadata": {},
     "output_type": "execute_result"
    }
   ],
   "source": [
    "from sklearn.cluster import KMeans\n",
    "from yellowbrick.cluster import KElbowVisualizer\n",
    "import pandas as pd\n",
    "\n",
    "#medals_per_country contient le nombre de médailles par pays et par type de médaille\n",
    "\n",
    "# Convertir les données en un format adapté pour le clustering\n",
    "X = medals_per_country.pivot_table(index='country_name', columns='medal_type', values='medal_count', fill_value=0)\n",
    "\n",
    "# Instancier le modèle de clustering KMeans\n",
    "model = KMeans(random_state=42)\n",
    "\n",
    "# Utiliser KElbowVisualizer pour trouver le nombre optimal de clusters\n",
    "visualizer = KElbowVisualizer(model, k=(2,11))  # tester de 2 à 10 clusters\n",
    "visualizer.fit(X)  # ajuster les données au visualiseur\n",
    "visualizer.show()  # afficher le graphique"
   ]
  },
  {
   "cell_type": "markdown",
   "id": "abac2f7b-fc09-412b-8223-f974be8c7cec",
   "metadata": {},
   "source": [
    "### Application de l'algo des kmeans"
   ]
  },
  {
   "cell_type": "code",
   "execution_count": 99,
   "id": "db024f4e-302f-49ae-ab25-c488574ab7e9",
   "metadata": {},
   "outputs": [
    {
     "name": "stderr",
     "output_type": "stream",
     "text": [
      "C:\\Users\\utilisateur\\AppData\\Local\\Programs\\Python\\Python310\\lib\\site-packages\\sklearn\\cluster\\_kmeans.py:1416: FutureWarning: The default value of `n_init` will change from 10 to 'auto' in 1.4. Set the value of `n_init` explicitly to suppress the warning\n",
      "  super()._check_params_vs_input(X, default_n_init=10)\n"
     ]
    }
   ],
   "source": [
    "from sklearn.cluster import KMeans\n",
    "import pandas as pd\n",
    "\n",
    "# Convertir les données en un format adapté pour le clustering\n",
    "X = medals_per_country.pivot_table(index='country_name', columns='medal_type', values='medal_count', fill_value=0)\n",
    "\n",
    "# Instancier le modèle de clustering KMeans avec 3 clusters\n",
    "kmeans = KMeans(n_clusters=4, random_state=42)\n",
    "\n",
    "# Ajuster le modèle aux données\n",
    "kmeans.fit(X)\n",
    "\n",
    "# Ajouter les labels de cluster aux données\n",
    "X['cluster'] = kmeans.labels_"
   ]
  },
  {
   "cell_type": "code",
   "execution_count": 100,
   "id": "03f8d99c-abbf-41a9-a633-fd7864c55231",
   "metadata": {},
   "outputs": [
    {
     "data": {
      "text/plain": [
       "array([0, 2, 3, 1])"
      ]
     },
     "execution_count": 100,
     "metadata": {},
     "output_type": "execute_result"
    }
   ],
   "source": [
    "X['cluster'].unique()"
   ]
  },
  {
   "cell_type": "markdown",
   "id": "61a0484c-3ee7-49a8-addb-d6997ba852c8",
   "metadata": {},
   "source": [
    "### Affichage des clusters"
   ]
  },
  {
   "cell_type": "code",
   "execution_count": 101,
   "id": "96e8e00c-d499-4b00-8570-552c2b438634",
   "metadata": {},
   "outputs": [
    {
     "name": "stderr",
     "output_type": "stream",
     "text": [
      "C:\\Users\\utilisateur\\AppData\\Local\\Programs\\Python\\Python310\\lib\\site-packages\\sklearn\\cluster\\_kmeans.py:1416: FutureWarning: The default value of `n_init` will change from 10 to 'auto' in 1.4. Set the value of `n_init` explicitly to suppress the warning\n",
      "  super()._check_params_vs_input(X, default_n_init=10)\n"
     ]
    },
    {
     "data": {
      "image/png": "[encoded data removed]",
      "text/plain": [
       "<Figure size 1000x600 with 1 Axes>"
      ]
     },
     "metadata": {},
     "output_type": "display_data"
    }
   ],
   "source": [
    "# Importer les bibliothèques nécessaires\n",
    "import matplotlib.pyplot as plt\n",
    "from sklearn.decomposition import PCA\n",
    "from sklearn.cluster import KMeans\n",
    "\n",
    "# Supprimer la colonne des labels de cluster des données X\n",
    "X = X.drop(columns=['cluster'])\n",
    "\n",
    "# Initialiser PCA et ajuster les données\n",
    "pca = PCA(n_components=2)\n",
    "X_2d = pca.fit_transform(X)\n",
    "\n",
    "# Initialiser et ajuster le modèle k-means\n",
    "kmeans = KMeans(n_clusters=4, random_state=42)\n",
    "kmeans.fit(X)\n",
    "\n",
    "# Créer un dictionnaire de couleurs pour les clusters\n",
    "colors = {0: 'blue', 1: 'red', 2: 'green',3:'orange'}\n",
    "\n",
    "# Créer le graphique avec Matplotlib\n",
    "plt.figure(figsize=(10, 6))\n",
    "for cluster in range(4):\n",
    "    plt.scatter(X_2d[kmeans.labels_ == cluster, 0], X_2d[kmeans.labels_ == cluster, 1], c=colors[cluster], label=f'Cluster {cluster}')\n",
    "\n",
    "plt.title('Clusters de pays en fonction des performances olympiques')\n",
    "plt.xlabel('Composante principale 1')\n",
    "plt.ylabel('Composante principale 2')\n",
    "plt.legend()\n",
    "plt.show()"
   ]
  },
  {
   "cell_type": "code",
   "execution_count": 102,
   "id": "22f39b6a-a755-4560-a1d5-c62f2bc58063",
   "metadata": {},
   "outputs": [
    {
     "data": {
      "image/png": "[encoded data removed]",
      "text/plain": [
       "<Figure size 1500x1000 with 4 Axes>"
      ]
     },
     "metadata": {},
     "output_type": "display_data"
    }
   ],
   "source": [
    "# Créer le graphique avec Matplotlib\n",
    "plt.figure(figsize=(15, 10))\n",
    "for cluster in range(4):\n",
    "    plt.subplot(2, 2, cluster+1)\n",
    "    cluster_points = X.index[kmeans.labels_ == cluster]\n",
    "    plt.scatter(X_2d[kmeans.labels_ == cluster, 0], X_2d[kmeans.labels_ == cluster, 1], c=colors[cluster], label=f'Cluster {cluster}')\n",
    "    for country in cluster_points:\n",
    "        plt.annotate(country, (X_2d[X.index == country, 0], X_2d[X.index == country, 1]), fontsize=8)\n",
    "    plt.title(f'Cluster {cluster}')\n",
    "    plt.xlabel('Composante principale 1')\n",
    "    plt.ylabel('Composante principale 2')\n",
    "plt.suptitle('Clusters de pays en fonction des performances olympiques')\n",
    "plt.tight_layout()\n",
    "plt.show()"
   ]
  },
  {
   "cell_type": "code",
   "execution_count": 103,
   "id": "e1a0ef3a-42e4-4fd8-a2fb-e67fb2fbc7d1",
   "metadata": {},
   "outputs": [
    {
     "name": "stderr",
     "output_type": "stream",
     "text": [
      "C:\\Users\\utilisateur\\AppData\\Local\\Programs\\Python\\Python310\\lib\\site-packages\\sklearn\\cluster\\_kmeans.py:1416: FutureWarning: The default value of `n_init` will change from 10 to 'auto' in 1.4. Set the value of `n_init` explicitly to suppress the warning\n",
      "  super()._check_params_vs_input(X, default_n_init=10)\n"
     ]
    },
    {
     "data": {
      "image/png": "[encoded data removed]",
      "text/plain": [
       "<Figure size 1000x800 with 1 Axes>"
      ]
     },
     "metadata": {},
     "output_type": "display_data"
    }
   ],
   "source": [
    "import pandas as pd\n",
    "import numpy as np\n",
    "import matplotlib.pyplot as plt\n",
    "import seaborn as sns\n",
    "from sklearn.decomposition import PCA\n",
    "from sklearn.preprocessing import StandardScaler\n",
    "from sklearn.cluster import KMeans\n",
    "\n",
    "# Assurez-vous que les données sont sous forme de tableau pivot\n",
    "X = medals_per_country.pivot_table(index='country_name', columns='medal_type', values='medal_count', fill_value=0)\n",
    "\n",
    "# Instancier le modèle de clustering KMeans avec 4 clusters\n",
    "kmeans = KMeans(n_clusters=4, random_state=42)\n",
    "\n",
    "# Ajuster le modèle aux données\n",
    "kmeans.fit(X)\n",
    "\n",
    "# Ajouter les labels de cluster aux données\n",
    "X['cluster'] = kmeans.labels_\n",
    "\n",
    "# Normaliser les données avant d'appliquer PCA\n",
    "scaler = StandardScaler()\n",
    "X_scaled = scaler.fit_transform(X.drop('cluster', axis=1))\n",
    "\n",
    "# Appliquer la PCA pour réduire les dimensions à 2D\n",
    "pca = PCA(n_components=2)\n",
    "X_pca = pca.fit_transform(X_scaled)\n",
    "\n",
    "# Créer un DataFrame pour les composantes principales\n",
    "pca_df = pd.DataFrame(X_pca, columns=['PC1', 'PC2'])\n",
    "pca_df['cluster'] = X['cluster'].values\n",
    "\n",
    "# Ajouter les charges des composantes principales pour les variables d'origine\n",
    "components = pd.DataFrame(pca.components_.T, index=X.columns[:-1], columns=['PC1', 'PC2'])\n",
    "explained_variance = pca.explained_variance_ratio_ * 100\n",
    "\n",
    "# Visualiser le cercle de corrélation\n",
    "plt.figure(figsize=(10, 8))\n",
    "ax = plt.gca()\n",
    "\n",
    "# Tracer les points PCA avec les clusters\n",
    "sns.scatterplot(x='PC1', y='PC2', hue='cluster', data=pca_df, palette='viridis', s=100, ax=ax, alpha=0.7)\n",
    "\n",
    "# Ajouter des vecteurs pour les charges des variables d'origine\n",
    "for i in range(components.shape[0]):\n",
    "    plt.arrow(0, 0, components.iloc[i, 0], components.iloc[i, 1], \n",
    "              color='r', alpha=0.5, head_width=0.05)\n",
    "    plt.text(components.iloc[i, 0] * 1.15, components.iloc[i, 1] * 1.15,\n",
    "             X.columns[i], color='r', ha='center', va='center')\n",
    "    \n",
    "# Ajouter des lignes pour les axes principaux\n",
    "plt.axhline(0, color='grey', lw=1, ls='--')\n",
    "plt.axvline(0, color='grey', lw=1, ls='--')\n",
    "\n",
    "plt.title('corrélation avec PCA')\n",
    "plt.xlabel(f'PC1 ({explained_variance[0]:.2f}%)')\n",
    "plt.ylabel(f'PC2 ({explained_variance[1]:.2f}%)')\n",
    "plt.grid()\n",
    "plt.show()"
   ]
  },
  {
   "cell_type": "markdown",
   "id": "e61b5030-4a13-4e54-a7c3-ca0c8d95d441",
   "metadata": {},
   "source": [
    "### examiner les caracteristiques de chaque cluster "
   ]
  },
  {
   "cell_type": "code",
   "execution_count": 105,
   "id": "ce1f8965-23ba-4a10-9692-252abef81f6e",
   "metadata": {},
   "outputs": [
    {
     "data": {
      "image/png": "[encoded data removed]",
      "text/plain": [
       "<Figure size 1200x600 with 4 Axes>"
      ]
     },
     "metadata": {},
     "output_type": "display_data"
    }
   ],
   "source": [
    "import matplotlib.pyplot as plt\n",
    "\n",
    "# Sélectionner uniquement les points appartenant à chaque cluster\n",
    "cluster_data = [X[kmeans.labels_ == i] for i in range(4)] \n",
    "\n",
    "# Créer un graphique en boîte pour chaque cluster\n",
    "plt.figure(figsize=(12, 6))\n",
    "for i, data in enumerate(cluster_data):\n",
    "    plt.subplot(1, 4, i+1) \n",
    "    plt.boxplot(data.values, labels=data.columns)\n",
    "    plt.title(f'Cluster {i}')\n",
    "    plt.xticks(rotation=45) \n",
    "\n",
    "plt.tight_layout()\n",
    "plt.show()\n"
   ]
  }
 ],
 "metadata": {
  "kernelspec": {
   "display_name": "Python 3 (ipykernel)",
   "language": "python",
   "name": "python3"
  },
  "language_info": {
   "codemirror_mode": {
    "name": "ipython",
    "version": 3
   },
   "file_extension": ".py",
   "mimetype": "text/x-python",
   "name": "python",
   "nbconvert_exporter": "python",
   "pygments_lexer": "ipython3",
   "version": "3.10.7"
  }
 },
 "nbformat": 4,
 "nbformat_minor": 5
}
