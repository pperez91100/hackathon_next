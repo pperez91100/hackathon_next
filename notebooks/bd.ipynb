{
 "cells": [
  {
   "cell_type": "code",
   "execution_count": 7,
   "metadata": {},
   "outputs": [
    {
     "name": "stdout",
     "output_type": "stream",
     "text": [
      "Vous êtes connecté à -  ('PostgreSQL 14.11 on x86_64-pc-linux-gnu, compiled by gcc (Debian 8.3.0-6) 8.3.0, 64-bit',) \n",
      "\n",
      "La connexion PostgreSQL est fermée\n"
     ]
    }
   ],
   "source": [
    "import psycopg2\n",
    "from psycopg2 import sql\n",
    "\n",
    "try:\n",
    "    # Connexion à la base de données\n",
    "    connection = psycopg2.connect(\n",
    "        user='perez',\n",
    "        host='postgresql-perez.alwaysdata.net',\n",
    "        database='perez_vercel_db',\n",
    "        password='jo2024!',\n",
    "        port=5432,     \n",
    "    )\n",
    "\n",
    "    # Création d'un curseur pour exécuter des commandes SQL\n",
    "    cursor = connection.cursor()\n",
    "    \n",
    "    # Exemple de requête SQL\n",
    "    cursor.execute(\"SELECT version();\")\n",
    "    record = cursor.fetchone()\n",
    "    print(\"Vous êtes connecté à - \", record, \"\\n\")\n",
    "\n",
    "except (Exception, psycopg2.Error) as error:\n",
    "    print(\"Erreur lors de la connexion à PostgreSQL\", error)\n",
    "\n",
    "finally:\n",
    "    # Fermeture de la connexion\n",
    "    if connection:\n",
    "        cursor.close()\n",
    "        connection.close()\n",
    "        print(\"La connexion PostgreSQL est fermée\")\n"
   ]
  }
 ],
 "metadata": {
  "kernelspec": {
   "display_name": "Python 3",
   "language": "python",
   "name": "python3"
  },
  "language_info": {
   "codemirror_mode": {
    "name": "ipython",
    "version": 3
   },
   "file_extension": ".py",
   "mimetype": "text/x-python",
   "name": "python",
   "nbconvert_exporter": "python",
   "pygments_lexer": "ipython3",
   "version": "3.11.4"
  }
 },
 "nbformat": 4,
 "nbformat_minor": 2
}
